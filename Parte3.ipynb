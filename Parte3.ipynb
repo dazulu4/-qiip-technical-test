{
 "cells": [
  {
   "cell_type": "markdown",
   "id": "6b67611a",
   "metadata": {},
   "source": [
    "Parte 3\n",
    "==="
   ]
  },
  {
   "cell_type": "code",
   "execution_count": 54,
   "id": "1f5eb818",
   "metadata": {},
   "outputs": [],
   "source": [
    "import warnings as ws\n",
    "ws.filterwarnings(\"ignore\")\n",
    "\n",
    "import pickle\n",
    "import numpy as np\n",
    "import pandas as pd\n",
    "\n",
    "import seaborn as sns\n",
    "import matplotlib.pyplot as plt\n",
    "\n",
    "sns.set(style=\"darkgrid\")\n",
    "%matplotlib inline\n",
    "\n",
    "from sklearn.cluster import KMeans\n",
    "from sklearn.metrics import silhouette_score, calinski_harabasz_score, davies_bouldin_score\n",
    "from sklearn.preprocessing import MinMaxScaler, RobustScaler\n",
    "from sklearn.pipeline import Pipeline\n",
    "from sklearn.manifold import TSNE\n",
    "from sklearn.decomposition import PCA"
   ]
  },
  {
   "cell_type": "markdown",
   "id": "fe317936",
   "metadata": {},
   "source": [
    "## 1. Carga de la base de datos"
   ]
  },
  {
   "cell_type": "code",
   "execution_count": 65,
   "id": "efd16607",
   "metadata": {},
   "outputs": [
    {
     "data": {
      "text/plain": [
       "(49299, 25)"
      ]
     },
     "execution_count": 65,
     "metadata": {},
     "output_type": "execute_result"
    }
   ],
   "source": [
    "df = pd.read_csv('data/result.csv', sep=\";\", encoding='utf-8')\n",
    "\n",
    "df.shape"
   ]
  },
  {
   "cell_type": "code",
   "execution_count": 66,
   "id": "5d4aa1bd",
   "metadata": {},
   "outputs": [
    {
     "name": "stdout",
     "output_type": "stream",
     "text": [
      "<class 'pandas.core.frame.DataFrame'>\n",
      "RangeIndex: 49299 entries, 0 to 49298\n",
      "Data columns (total 25 columns):\n",
      " #   Column                             Non-Null Count  Dtype  \n",
      "---  ------                             --------------  -----  \n",
      " 0   Creditos                           49299 non-null  int64  \n",
      " 1   saldo_actual                       49299 non-null  float64\n",
      " 2   saldo_vencido                      49299 non-null  float64\n",
      " 3   Promedio de limite_credito         49299 non-null  float64\n",
      " 4   Promedio de credito_maximo         49299 non-null  float64\n",
      " 5   Promedio de cantidad_cuotas        49299 non-null  float64\n",
      " 6   Promedio de valor_cuota            49299 non-null  float64\n",
      " 7   genero_FEMENINO                    49299 non-null  int64  \n",
      " 8   genero_MASCULINO                   49299 non-null  int64  \n",
      " 9   rango_edad_(16.999, 26.0]          49299 non-null  int64  \n",
      " 10  rango_edad_(26.0, 32.0]            49299 non-null  int64  \n",
      " 11  rango_edad_(32.0, 79.0]            49299 non-null  int64  \n",
      " 12  Antiguedad_6 meses o mas           49299 non-null  int64  \n",
      " 13  Antiguedad_Menos de 6 meses        49299 non-null  int64  \n",
      " 14  mop_historico_Al día               49299 non-null  int64  \n",
      " 15  mop_historico_Mora > 120 días      49299 non-null  int64  \n",
      " 16  perfil_usuario_Alto                49299 non-null  int64  \n",
      " 17  perfil_usuario_Bajo                49299 non-null  int64  \n",
      " 18  perfil_usuario_Joven               49299 non-null  int64  \n",
      " 19  perfil_usuario_Medio               49299 non-null  int64  \n",
      " 20  perfil_usuario_Sin registro        49299 non-null  int64  \n",
      " 21  perfil_usuario_Usuario en quiebra  49299 non-null  int64  \n",
      " 22  Garantia_Tipo garantia 1           49299 non-null  int64  \n",
      " 23  Garantia_Tipo garantia 2           49299 non-null  int64  \n",
      " 24  Y                                  49299 non-null  int64  \n",
      "dtypes: float64(6), int64(19)\n",
      "memory usage: 9.4 MB\n"
     ]
    }
   ],
   "source": [
    "df.info()"
   ]
  },
  {
   "attachments": {},
   "cell_type": "markdown",
   "id": "ab8f2b97",
   "metadata": {},
   "source": [
    "## 2. Segmentación de usuarios\n",
    "\n",
    "Para realizar la segmentación de usuarios tenemos diferentes posibilidades de metodologías. Para efecto de este trabajo usaremos únicamente **KMeans** y realizaremos un ajuste basado en el **método del codo** para seleccionar una cantidad de grupos o segmentos apropiados para el problema."
   ]
  },
  {
   "cell_type": "code",
   "execution_count": 67,
   "id": "88be6d94",
   "metadata": {},
   "outputs": [
    {
     "data": {
      "text/plain": [
       "(49299, 24)"
      ]
     },
     "execution_count": 67,
     "metadata": {},
     "output_type": "execute_result"
    }
   ],
   "source": [
    "# Eliminamos la variable objetivo ya que no aporta en la segmentación\n",
    "group_df = df.drop(columns=\"Y\")\n",
    "\n",
    "# Dejemos escalados los datos para el modelado de Clustering\n",
    "scaler, columns = MinMaxScaler(), group_df.columns\n",
    "group_scaled_df = pd.DataFrame(scaler.fit_transform(group_df), columns=columns)\n",
    "\n",
    "group_scaled_df.shape"
   ]
  },
  {
   "cell_type": "code",
   "execution_count": 68,
   "id": "2d661eac",
   "metadata": {},
   "outputs": [
    {
     "data": {
      "text/html": [
       "<div>\n",
       "<style scoped>\n",
       "    .dataframe tbody tr th:only-of-type {\n",
       "        vertical-align: middle;\n",
       "    }\n",
       "\n",
       "    .dataframe tbody tr th {\n",
       "        vertical-align: top;\n",
       "    }\n",
       "\n",
       "    .dataframe thead th {\n",
       "        text-align: right;\n",
       "    }\n",
       "</style>\n",
       "<table border=\"1\" class=\"dataframe\">\n",
       "  <thead>\n",
       "    <tr style=\"text-align: right;\">\n",
       "      <th></th>\n",
       "      <th>Creditos</th>\n",
       "      <th>saldo_actual</th>\n",
       "      <th>saldo_vencido</th>\n",
       "      <th>Promedio de limite_credito</th>\n",
       "      <th>Promedio de credito_maximo</th>\n",
       "      <th>Promedio de cantidad_cuotas</th>\n",
       "      <th>Promedio de valor_cuota</th>\n",
       "      <th>genero_FEMENINO</th>\n",
       "      <th>genero_MASCULINO</th>\n",
       "      <th>rango_edad_(16.999, 26.0]</th>\n",
       "      <th>...</th>\n",
       "      <th>mop_historico_Al día</th>\n",
       "      <th>mop_historico_Mora &gt; 120 días</th>\n",
       "      <th>perfil_usuario_Alto</th>\n",
       "      <th>perfil_usuario_Bajo</th>\n",
       "      <th>perfil_usuario_Joven</th>\n",
       "      <th>perfil_usuario_Medio</th>\n",
       "      <th>perfil_usuario_Sin registro</th>\n",
       "      <th>perfil_usuario_Usuario en quiebra</th>\n",
       "      <th>Garantia_Tipo garantia 1</th>\n",
       "      <th>Garantia_Tipo garantia 2</th>\n",
       "    </tr>\n",
       "  </thead>\n",
       "  <tbody>\n",
       "    <tr>\n",
       "      <th>0</th>\n",
       "      <td>0.00</td>\n",
       "      <td>0.002763</td>\n",
       "      <td>0.000000</td>\n",
       "      <td>0.000000</td>\n",
       "      <td>0.029817</td>\n",
       "      <td>0.081013</td>\n",
       "      <td>0.001905</td>\n",
       "      <td>1.0</td>\n",
       "      <td>0.0</td>\n",
       "      <td>1.0</td>\n",
       "      <td>...</td>\n",
       "      <td>1.0</td>\n",
       "      <td>0.0</td>\n",
       "      <td>1.0</td>\n",
       "      <td>0.0</td>\n",
       "      <td>0.0</td>\n",
       "      <td>0.0</td>\n",
       "      <td>0.0</td>\n",
       "      <td>0.0</td>\n",
       "      <td>0.0</td>\n",
       "      <td>1.0</td>\n",
       "    </tr>\n",
       "    <tr>\n",
       "      <th>1</th>\n",
       "      <td>0.00</td>\n",
       "      <td>0.000064</td>\n",
       "      <td>0.000389</td>\n",
       "      <td>0.000000</td>\n",
       "      <td>0.006423</td>\n",
       "      <td>0.081013</td>\n",
       "      <td>0.000519</td>\n",
       "      <td>0.0</td>\n",
       "      <td>1.0</td>\n",
       "      <td>1.0</td>\n",
       "      <td>...</td>\n",
       "      <td>0.0</td>\n",
       "      <td>0.0</td>\n",
       "      <td>0.0</td>\n",
       "      <td>0.0</td>\n",
       "      <td>0.0</td>\n",
       "      <td>1.0</td>\n",
       "      <td>0.0</td>\n",
       "      <td>0.0</td>\n",
       "      <td>0.0</td>\n",
       "      <td>1.0</td>\n",
       "    </tr>\n",
       "    <tr>\n",
       "      <th>2</th>\n",
       "      <td>0.00</td>\n",
       "      <td>0.000289</td>\n",
       "      <td>0.006874</td>\n",
       "      <td>0.000000</td>\n",
       "      <td>0.007488</td>\n",
       "      <td>0.001688</td>\n",
       "      <td>0.032604</td>\n",
       "      <td>0.0</td>\n",
       "      <td>1.0</td>\n",
       "      <td>1.0</td>\n",
       "      <td>...</td>\n",
       "      <td>0.0</td>\n",
       "      <td>0.0</td>\n",
       "      <td>0.0</td>\n",
       "      <td>0.0</td>\n",
       "      <td>0.0</td>\n",
       "      <td>0.0</td>\n",
       "      <td>0.0</td>\n",
       "      <td>1.0</td>\n",
       "      <td>1.0</td>\n",
       "      <td>0.0</td>\n",
       "    </tr>\n",
       "    <tr>\n",
       "      <th>3</th>\n",
       "      <td>0.00</td>\n",
       "      <td>0.008450</td>\n",
       "      <td>0.000000</td>\n",
       "      <td>0.000000</td>\n",
       "      <td>0.067551</td>\n",
       "      <td>0.163713</td>\n",
       "      <td>0.002831</td>\n",
       "      <td>0.0</td>\n",
       "      <td>1.0</td>\n",
       "      <td>0.0</td>\n",
       "      <td>...</td>\n",
       "      <td>1.0</td>\n",
       "      <td>0.0</td>\n",
       "      <td>0.0</td>\n",
       "      <td>0.0</td>\n",
       "      <td>0.0</td>\n",
       "      <td>0.0</td>\n",
       "      <td>1.0</td>\n",
       "      <td>0.0</td>\n",
       "      <td>0.0</td>\n",
       "      <td>0.0</td>\n",
       "    </tr>\n",
       "    <tr>\n",
       "      <th>4</th>\n",
       "      <td>0.04</td>\n",
       "      <td>0.002499</td>\n",
       "      <td>0.000000</td>\n",
       "      <td>0.078508</td>\n",
       "      <td>0.000000</td>\n",
       "      <td>0.000000</td>\n",
       "      <td>0.000874</td>\n",
       "      <td>0.0</td>\n",
       "      <td>1.0</td>\n",
       "      <td>1.0</td>\n",
       "      <td>...</td>\n",
       "      <td>1.0</td>\n",
       "      <td>0.0</td>\n",
       "      <td>0.0</td>\n",
       "      <td>0.0</td>\n",
       "      <td>0.0</td>\n",
       "      <td>0.0</td>\n",
       "      <td>1.0</td>\n",
       "      <td>0.0</td>\n",
       "      <td>0.0</td>\n",
       "      <td>1.0</td>\n",
       "    </tr>\n",
       "  </tbody>\n",
       "</table>\n",
       "<p>5 rows × 24 columns</p>\n",
       "</div>"
      ],
      "text/plain": [
       "   Creditos  saldo_actual  saldo_vencido  Promedio de limite_credito  \\\n",
       "0      0.00      0.002763       0.000000                    0.000000   \n",
       "1      0.00      0.000064       0.000389                    0.000000   \n",
       "2      0.00      0.000289       0.006874                    0.000000   \n",
       "3      0.00      0.008450       0.000000                    0.000000   \n",
       "4      0.04      0.002499       0.000000                    0.078508   \n",
       "\n",
       "   Promedio de credito_maximo  Promedio de cantidad_cuotas  \\\n",
       "0                    0.029817                     0.081013   \n",
       "1                    0.006423                     0.081013   \n",
       "2                    0.007488                     0.001688   \n",
       "3                    0.067551                     0.163713   \n",
       "4                    0.000000                     0.000000   \n",
       "\n",
       "   Promedio de valor_cuota  genero_FEMENINO  genero_MASCULINO  \\\n",
       "0                 0.001905              1.0               0.0   \n",
       "1                 0.000519              0.0               1.0   \n",
       "2                 0.032604              0.0               1.0   \n",
       "3                 0.002831              0.0               1.0   \n",
       "4                 0.000874              0.0               1.0   \n",
       "\n",
       "   rango_edad_(16.999, 26.0]  ...  mop_historico_Al día  \\\n",
       "0                        1.0  ...                   1.0   \n",
       "1                        1.0  ...                   0.0   \n",
       "2                        1.0  ...                   0.0   \n",
       "3                        0.0  ...                   1.0   \n",
       "4                        1.0  ...                   1.0   \n",
       "\n",
       "   mop_historico_Mora > 120 días  perfil_usuario_Alto  perfil_usuario_Bajo  \\\n",
       "0                            0.0                  1.0                  0.0   \n",
       "1                            0.0                  0.0                  0.0   \n",
       "2                            0.0                  0.0                  0.0   \n",
       "3                            0.0                  0.0                  0.0   \n",
       "4                            0.0                  0.0                  0.0   \n",
       "\n",
       "   perfil_usuario_Joven  perfil_usuario_Medio  perfil_usuario_Sin registro  \\\n",
       "0                   0.0                   0.0                          0.0   \n",
       "1                   0.0                   1.0                          0.0   \n",
       "2                   0.0                   0.0                          0.0   \n",
       "3                   0.0                   0.0                          1.0   \n",
       "4                   0.0                   0.0                          1.0   \n",
       "\n",
       "   perfil_usuario_Usuario en quiebra  Garantia_Tipo garantia 1  \\\n",
       "0                                0.0                       0.0   \n",
       "1                                0.0                       0.0   \n",
       "2                                1.0                       1.0   \n",
       "3                                0.0                       0.0   \n",
       "4                                0.0                       0.0   \n",
       "\n",
       "   Garantia_Tipo garantia 2  \n",
       "0                       1.0  \n",
       "1                       1.0  \n",
       "2                       0.0  \n",
       "3                       0.0  \n",
       "4                       1.0  \n",
       "\n",
       "[5 rows x 24 columns]"
      ]
     },
     "execution_count": 68,
     "metadata": {},
     "output_type": "execute_result"
    }
   ],
   "source": [
    "group_scaled_df.head()"
   ]
  },
  {
   "attachments": {},
   "cell_type": "markdown",
   "id": "38eb1c56",
   "metadata": {},
   "source": [
    "### Selección cantidad de segmentos\n",
    "\n",
    "Vamos a ejecutar el método KMeans de forma iterativa para diferentes tamaños de cluster, desde 1 hasta 9. Luego, vamos a graficar y validar en que cantidad de cluster se comporta mejor."
   ]
  },
  {
   "cell_type": "code",
   "execution_count": 69,
   "id": "55eddd16",
   "metadata": {},
   "outputs": [],
   "source": [
    "distortions = []\n",
    "range_ = range(1, 10)\n",
    "for k in range_:\n",
    "    model = KMeans(n_clusters=k)\n",
    "    model.fit(group_scaled_df)\n",
    "    distortions.append(model.inertia_)"
   ]
  },
  {
   "cell_type": "code",
   "execution_count": 70,
   "id": "c16c7254",
   "metadata": {},
   "outputs": [
    {
     "data": {
      "image/png": "[encoded data removed]",
      "text/plain": [
       "<Figure size 1152x576 with 1 Axes>"
      ]
     },
     "metadata": {
      "needs_background": "light"
     },
     "output_type": "display_data"
    }
   ],
   "source": [
    "plt.figure(figsize=(16,8))\n",
    "plt.plot(range_, distortions, 'bx-')\n",
    "plt.xlabel('k')\n",
    "plt.ylabel('Distortion')\n",
    "plt.title('The Elbow Method showing the optimal k')\n",
    "plt.show()"
   ]
  },
  {
   "cell_type": "code",
   "execution_count": 71,
   "id": "a775a591",
   "metadata": {},
   "outputs": [
    {
     "data": {
      "text/plain": [
       "2    18995\n",
       "1    16294\n",
       "0    14010\n",
       "dtype: int64"
      ]
     },
     "execution_count": 71,
     "metadata": {},
     "output_type": "execute_result"
    }
   ],
   "source": [
    "model_final = KMeans(n_clusters=3)\n",
    "model_final.fit(group_scaled_df)\n",
    "\n",
    "pd.Series(model_final.labels_).value_counts()"
   ]
  },
  {
   "cell_type": "code",
   "execution_count": 72,
   "id": "f3d96f76",
   "metadata": {},
   "outputs": [
    {
     "name": "stdout",
     "output_type": "stream",
     "text": [
      "<class 'pandas.core.frame.DataFrame'>\n",
      "RangeIndex: 49299 entries, 0 to 49298\n",
      "Data columns (total 25 columns):\n",
      " #   Column                             Non-Null Count  Dtype  \n",
      "---  ------                             --------------  -----  \n",
      " 0   Creditos                           49299 non-null  int64  \n",
      " 1   saldo_actual                       49299 non-null  float64\n",
      " 2   saldo_vencido                      49299 non-null  float64\n",
      " 3   Promedio de limite_credito         49299 non-null  float64\n",
      " 4   Promedio de credito_maximo         49299 non-null  float64\n",
      " 5   Promedio de cantidad_cuotas        49299 non-null  float64\n",
      " 6   Promedio de valor_cuota            49299 non-null  float64\n",
      " 7   genero_FEMENINO                    49299 non-null  int64  \n",
      " 8   genero_MASCULINO                   49299 non-null  int64  \n",
      " 9   rango_edad_(16.999, 26.0]          49299 non-null  int64  \n",
      " 10  rango_edad_(26.0, 32.0]            49299 non-null  int64  \n",
      " 11  rango_edad_(32.0, 79.0]            49299 non-null  int64  \n",
      " 12  Antiguedad_6 meses o mas           49299 non-null  int64  \n",
      " 13  Antiguedad_Menos de 6 meses        49299 non-null  int64  \n",
      " 14  mop_historico_Al día               49299 non-null  int64  \n",
      " 15  mop_historico_Mora > 120 días      49299 non-null  int64  \n",
      " 16  perfil_usuario_Alto                49299 non-null  int64  \n",
      " 17  perfil_usuario_Bajo                49299 non-null  int64  \n",
      " 18  perfil_usuario_Joven               49299 non-null  int64  \n",
      " 19  perfil_usuario_Medio               49299 non-null  int64  \n",
      " 20  perfil_usuario_Sin registro        49299 non-null  int64  \n",
      " 21  perfil_usuario_Usuario en quiebra  49299 non-null  int64  \n",
      " 22  Garantia_Tipo garantia 1           49299 non-null  int64  \n",
      " 23  Garantia_Tipo garantia 2           49299 non-null  int64  \n",
      " 24  cluster                            49299 non-null  int32  \n",
      "dtypes: float64(6), int32(1), int64(18)\n",
      "memory usage: 9.2 MB\n"
     ]
    }
   ],
   "source": [
    "grouped_df = group_df.copy()\n",
    "grouped_df['cluster'] = model_final.labels_\n",
    "\n",
    "grouped_df.info()"
   ]
  },
  {
   "attachments": {},
   "cell_type": "markdown",
   "id": "3780efa4",
   "metadata": {},
   "source": [
    "### Evaluación del modelo seleccionado"
   ]
  },
  {
   "cell_type": "code",
   "execution_count": 73,
   "id": "29c8b70d",
   "metadata": {},
   "outputs": [
    {
     "data": {
      "text/plain": [
       "(49299, 2)"
      ]
     },
     "execution_count": 73,
     "metadata": {},
     "output_type": "execute_result"
    }
   ],
   "source": [
    "model_reduce_dim = PCA(n_components=2, random_state=1)\n",
    "# model_reduce_dim = TSNE(n_components=2, random_state=1)\n",
    "\n",
    "transformed = model_reduce_dim.fit_transform(grouped_df)\n",
    "transformed.shape"
   ]
  },
  {
   "cell_type": "code",
   "execution_count": 74,
   "id": "8c6bce1f",
   "metadata": {},
   "outputs": [
    {
     "data": {
      "text/plain": [
       "<AxesSubplot:title={'center':'Flattened Graph of KMeans(n_clusters=3) model'}>"
      ]
     },
     "execution_count": 74,
     "metadata": {},
     "output_type": "execute_result"
    },
    {
     "data": {
      "image/png": "[encoded data removed]",
      "text/plain": [
       "<Figure size 1152x864 with 1 Axes>"
      ]
     },
     "metadata": {
      "needs_background": "light"
     },
     "output_type": "display_data"
    }
   ],
   "source": [
    "plt.figure(figsize=(16, 12))\n",
    "plt.title(f'Flattened Graph of {str(model_final)} model')\n",
    "sns.scatterplot(x=transformed[:,0], y=transformed[:,1], hue=grouped_df.cluster, \n",
    "                style=grouped_df.cluster, palette='deep')"
   ]
  },
  {
   "cell_type": "code",
   "execution_count": null,
   "id": "571223f4",
   "metadata": {},
   "outputs": [],
   "source": []
  },
  {
   "cell_type": "markdown",
   "id": "884b7dc3",
   "metadata": {},
   "source": [
    "### Evaluación modelo de segmentación seleccionado"
   ]
  },
  {
   "cell_type": "code",
   "execution_count": 12,
   "id": "5a210a87",
   "metadata": {},
   "outputs": [],
   "source": [
    "def model_plot(df, scaler, model):\n",
    "    normalized_df = pd.DataFrame(scaler.fit_transform(df))\n",
    "    normalized_df.columns = df.columns\n",
    "    \n",
    "    # Extract cluster labels\n",
    "    model.fit(normalized_df)\n",
    "    cluster_labels = model.labels_\n",
    "        \n",
    "    # Create a cluster label column in original dataset\n",
    "    df_new = df.assign(cluster=cluster_labels)\n",
    "    \n",
    "    # Initialise TSNE\n",
    "    model_tsne = TSNE(n_components=3, random_state=1)\n",
    "    transformed = model_tsne.fit_transform(df_new)\n",
    "    \n",
    "    fig = plt.figure()\n",
    "    fig.set_size_inches(12, 12)\n",
    "    ax = fig.add_subplot(111, projection='3d')\n",
    "\n",
    "    ax.scatter(xs=transformed[:,0], ys=transformed[:,1], zs=transformed[:,2], \n",
    "               c=df_new.cluster, cmap='Set1')\n",
    "    ax.set_title(f'Flattened Graph of {str(model)} model')\n",
    "    ax.set_xlabel(\"Component 1\")\n",
    "    ax.set_ylabel(\"Component 2\")\n",
    "    ax.set_zlabel(\"Component 3\")\n",
    "    \n",
    "    plt.show()\n",
    "\n",
    "def model_plot_2d(df, scaler, model):\n",
    "    normalized_df = pd.DataFrame(scaler.fit_transform(df))\n",
    "    normalized_df.columns = df.columns\n",
    "    \n",
    "    # Extract cluster labels\n",
    "    cluster_labels = None\n",
    "    if str(model).split('(')[0] == 'GaussianMixture':\n",
    "        cluster_labels = model.fit_predict(normalized_df)\n",
    "    else:\n",
    "        model.fit(normalized_df)\n",
    "        cluster_labels = model.labels_\n",
    "        \n",
    "    # Create a cluster label column in original dataset\n",
    "    df_new = df.assign(cluster=cluster_labels)\n",
    "    \n",
    "    # Initialise TSNE\n",
    "    model_tsne = TSNE(random_state=1)\n",
    "    transformed = model_tsne.fit_transform(df_new)\n",
    "    \n",
    "    # Plot t-SNE\n",
    "    plt.title(f'Flattened Graph of {str(model)} model')\n",
    "    sns.scatterplot(x=transformed[:,0], y=transformed[:,1], hue=cluster_labels, \n",
    "                    style=cluster_labels, palette='deep')\n",
    "    \n",
    "    return normalized_df, df_new\n",
    "\n",
    "def snake_plot(normalized_df, df_cluster, df_original, columns_vars):\n",
    "\n",
    "    normalized_df = pd.DataFrame(normalized_df.values, \n",
    "                                 index=df_original.index, \n",
    "                                 columns=df_original.columns)\n",
    "    \n",
    "    normalized_df['cluster'] = df_cluster['cluster']\n",
    "\n",
    "    # Melt data into long format\n",
    "    df_melt = pd.melt(normalized_df.reset_index(), \n",
    "                      id_vars=['saldo_actual', 'cluster'],\n",
    "                      value_vars=columns_vars,\n",
    "                      var_name='metric', \n",
    "                      value_name='value')\n",
    "    plt.xlabel('metric')\n",
    "    plt.ylabel('value')\n",
    "    sns.pointplot(data=df_melt, x='metric', y='value', hue='cluster', palette=\"Set2\")\n",
    "    \n",
    "    return"
   ]
  },
  {
   "cell_type": "code",
   "execution_count": null,
   "id": "9733be4c",
   "metadata": {},
   "outputs": [],
   "source": []
  },
  {
   "cell_type": "code",
   "execution_count": null,
   "id": "bf8f3003",
   "metadata": {},
   "outputs": [],
   "source": []
  },
  {
   "cell_type": "code",
   "execution_count": null,
   "id": "ada28d62",
   "metadata": {},
   "outputs": [],
   "source": []
  },
  {
   "cell_type": "code",
   "execution_count": null,
   "id": "588ad28b",
   "metadata": {},
   "outputs": [],
   "source": []
  },
  {
   "cell_type": "code",
   "execution_count": null,
   "id": "8a95b890",
   "metadata": {},
   "outputs": [],
   "source": []
  }
 ],
 "metadata": {
  "kernelspec": {
   "display_name": "base",
   "language": "python",
   "name": "python3"
  },
  "language_info": {
   "codemirror_mode": {
    "name": "ipython",
    "version": 3
   },
   "file_extension": ".py",
   "mimetype": "text/x-python",
   "name": "python",
   "nbconvert_exporter": "python",
   "pygments_lexer": "ipython3",
   "version": "3.8.8"
  },
  "vscode": {
   "interpreter": {
    "hash": "ad2bdc8ecc057115af97d19610ffacc2b4e99fae6737bb82f5d7fb13d2f2c186"
   }
  }
 },
 "nbformat": 4,
 "nbformat_minor": 5
}
