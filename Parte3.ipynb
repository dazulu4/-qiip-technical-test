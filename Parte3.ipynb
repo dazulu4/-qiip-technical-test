{
 "cells": [
  {
   "cell_type": "markdown",
   "id": "6b67611a",
   "metadata": {},
   "source": [
    "Parte 3\n",
    "==="
   ]
  },
  {
   "cell_type": "code",
   "execution_count": 1,
   "id": "1f5eb818",
   "metadata": {},
   "outputs": [],
   "source": [
    "import warnings as ws\n",
    "ws.filterwarnings(\"ignore\")\n",
    "\n",
    "import pickle\n",
    "import numpy as np\n",
    "import pandas as pd\n",
    "\n",
    "import seaborn as sns\n",
    "import matplotlib.pyplot as plt\n",
    "\n",
    "sns.set(style=\"darkgrid\")\n",
    "%matplotlib inline\n",
    "\n",
    "from sklearn.cluster import (KMeans, AgglomerativeClustering, DBSCAN)\n",
    "from sklearn.metrics import silhouette_score, calinski_harabasz_score, davies_bouldin_score\n",
    "from sklearn.preprocessing import MinMaxScaler\n",
    "from sklearn.pipeline import Pipeline\n",
    "from sklearn.manifold import TSNE"
   ]
  },
  {
   "cell_type": "markdown",
   "id": "fe317936",
   "metadata": {},
   "source": [
    "## 1. Carga de la base de datos"
   ]
  },
  {
   "cell_type": "code",
   "execution_count": 2,
   "id": "efd16607",
   "metadata": {},
   "outputs": [
    {
     "data": {
      "text/plain": [
       "(42659, 67)"
      ]
     },
     "execution_count": 2,
     "metadata": {},
     "output_type": "execute_result"
    }
   ],
   "source": [
    "df = pd.read_csv('data/result.csv', sep=\";\", encoding='utf-8')\n",
    "\n",
    "df.shape"
   ]
  },
  {
   "cell_type": "code",
   "execution_count": 3,
   "id": "5d4aa1bd",
   "metadata": {},
   "outputs": [
    {
     "name": "stdout",
     "output_type": "stream",
     "text": [
      "<class 'pandas.core.frame.DataFrame'>\n",
      "RangeIndex: 42659 entries, 0 to 42658\n",
      "Data columns (total 67 columns):\n",
      " #   Column                             Non-Null Count  Dtype  \n",
      "---  ------                             --------------  -----  \n",
      " 0   Creditos                           42659 non-null  int64  \n",
      " 1   saldo_actual                       42659 non-null  float64\n",
      " 2   Promedio de limite_credito         42659 non-null  float64\n",
      " 3   Promedio de credito_maximo         42659 non-null  float64\n",
      " 4   Promedio de cantidad_cuotas        42659 non-null  float64\n",
      " 5   Promedio de valor_cuota            42659 non-null  float64\n",
      " 6   ahorro_impacto                     42659 non-null  int64  \n",
      " 7   coaching_impacto                   42659 non-null  int64  \n",
      " 8   Desinstalaciones                   42659 non-null  int64  \n",
      " 9   Tiene_ahorro                       42659 non-null  int64  \n",
      " 10  monto_ahorro                       42659 non-null  float64\n",
      " 11  Activo_saldo_actual                42659 non-null  float64\n",
      " 12  Activo_saldo_vencido               42659 non-null  float64\n",
      " 13  %_Activo                           42659 non-null  float64\n",
      " 14  Activos_garantia                   42659 non-null  int64  \n",
      " 15  %_Autos                            42659 non-null  float64\n",
      " 16  Autos_garantia                     42659 non-null  int64  \n",
      " 17  Comunicaciones_saldo_actual        42659 non-null  float64\n",
      " 18  Comunicaciones_saldo_vencido       42659 non-null  float64\n",
      " 19  %_comunicaciones                   42659 non-null  float64\n",
      " 20  Comunicaciones_pagos_vencidos      42659 non-null  int64  \n",
      " 21  Comunicaciones_garantia            42659 non-null  int64  \n",
      " 22  Consumo_saldo_actual               42659 non-null  float64\n",
      " 23  Consumo_saldo_vencido              42659 non-null  float64\n",
      " 24  %_consumo                          42659 non-null  float64\n",
      " 25  consumo_pagos_vencidos             42659 non-null  int64  \n",
      " 26  consumo_garantia                   42659 non-null  int64  \n",
      " 27  Educacion_saldo_actual             42659 non-null  float64\n",
      " 28  %_educuacion                       42659 non-null  float64\n",
      " 29  Educacion_garantia                 42659 non-null  int64  \n",
      " 30  Microcredito_saldo_actual          42659 non-null  float64\n",
      " 31  Microcredito_saldo_vencido         42659 non-null  float64\n",
      " 32  %_microcredito                     42659 non-null  float64\n",
      " 33  microcredito_garantia              42659 non-null  int64  \n",
      " 34  Otros_saldo_actual                 42659 non-null  float64\n",
      " 35  Otros_saldo_vencido                42659 non-null  float64\n",
      " 36  %_otro                             42659 non-null  float64\n",
      " 37  Otros_garantia                     42659 non-null  int64  \n",
      " 38  Tarjeta_credito_saldo_actual       42659 non-null  float64\n",
      " 39  Tarjeta_credito_saldo_vencido      42659 non-null  float64\n",
      " 40  %_tarjeta                          42659 non-null  float64\n",
      " 41  Tarjeta_pagos_vencidos             42659 non-null  int64  \n",
      " 42  Tarjeta_garantia                   42659 non-null  int64  \n",
      " 43  genero_DESCONOCIDO                 42659 non-null  int64  \n",
      " 44  genero_FEMENINO                    42659 non-null  int64  \n",
      " 45  genero_MASCULINO                   42659 non-null  int64  \n",
      " 46  rango_edad_(16.999, 25.0]          42659 non-null  int64  \n",
      " 47  rango_edad_(25.0, 29.0]            42659 non-null  int64  \n",
      " 48  rango_edad_(29.0, 34.0]            42659 non-null  int64  \n",
      " 49  rango_edad_(34.0, 79.0]            42659 non-null  int64  \n",
      " 50  Antiguedad_6 meses o mas           42659 non-null  int64  \n",
      " 51  Antiguedad_Menos de 6 meses        42659 non-null  int64  \n",
      " 52  mop_historico_Al día               42659 non-null  int64  \n",
      " 53  mop_historico_Mora 60 días         42659 non-null  int64  \n",
      " 54  mop_historico_Mora > 120 días      42659 non-null  int64  \n",
      " 55  mop_historico_Sin registro         42659 non-null  int64  \n",
      " 56  perfil_usuario_Alto                42659 non-null  int64  \n",
      " 57  perfil_usuario_Bajo                42659 non-null  int64  \n",
      " 58  perfil_usuario_Joven               42659 non-null  int64  \n",
      " 59  perfil_usuario_Medio               42659 non-null  int64  \n",
      " 60  perfil_usuario_Sin registro        42659 non-null  int64  \n",
      " 61  perfil_usuario_Usuario en quiebra  42659 non-null  int64  \n",
      " 62  sistema_operativo_ANDROID          42659 non-null  int64  \n",
      " 63  sistema_operativo_OTRO             42659 non-null  int64  \n",
      " 64  Garantia_Tipo garantia 1           42659 non-null  int64  \n",
      " 65  Garantia_Tipo garantia 2           42659 non-null  int64  \n",
      " 66  Y                                  42659 non-null  int64  \n",
      "dtypes: float64(27), int64(40)\n",
      "memory usage: 21.8 MB\n"
     ]
    }
   ],
   "source": [
    "df.info()"
   ]
  },
  {
   "cell_type": "markdown",
   "id": "ab8f2b97",
   "metadata": {},
   "source": [
    "## 2. Segmentación de usuarios"
   ]
  },
  {
   "cell_type": "code",
   "execution_count": 4,
   "id": "88be6d94",
   "metadata": {},
   "outputs": [
    {
     "data": {
      "text/plain": [
       "(42659, 66)"
      ]
     },
     "execution_count": 4,
     "metadata": {},
     "output_type": "execute_result"
    }
   ],
   "source": [
    "# Eliminamos la variable objetivo ya que no aporta en la segmentación\n",
    "group_df = df.drop(columns=\"Y\")\n",
    "group_df.shape"
   ]
  },
  {
   "cell_type": "markdown",
   "id": "38eb1c56",
   "metadata": {},
   "source": [
    "### Selección mejor modelo de segmentación"
   ]
  },
  {
   "cell_type": "code",
   "execution_count": 5,
   "id": "08a9e672",
   "metadata": {},
   "outputs": [],
   "source": [
    "# A function to automate the model fiting and prediction\n",
    "def model_train(estimator, data, a, b):\n",
    "    db = []\n",
    "    ca = []\n",
    "    sc = []\n",
    "    bic = []\n",
    "    aic = []\n",
    "    n_clusters = []\n",
    "    \n",
    "    eps_metric = []\n",
    "    eps_params = [0.1, 0.2, 0.3]\n",
    "    \n",
    "    if estimator == DBSCAN:\n",
    "        for k in eps_params:\n",
    "            est = estimator(eps = k)\n",
    "            est.fit(data)  \n",
    "            labels = est.labels_\n",
    "            \n",
    "            if np.unique(labels).shape[0] > 1:\n",
    "                db.append(davies_bouldin_score(data, labels))\n",
    "                ca.append(calinski_harabasz_score(data, labels))\n",
    "                sc.append(silhouette_score(data, labels))\n",
    "            else:\n",
    "                db.append(10)\n",
    "                ca.append(-10)\n",
    "                sc.append(-10)\n",
    "                \n",
    "            eps_metric.append((np.unique(labels).shape[0], k))\n",
    "        \n",
    "        n_clusters.append(eps_metric[np.argmin(db)])\n",
    "        n_clusters.append(eps_metric[np.argmax(ca)])\n",
    "        n_clusters.append(eps_metric[np.argmax(sc)])\n",
    "    else:\n",
    "        for k in range(a, b):\n",
    "            est = estimator(n_clusters = k)\n",
    "            est.fit(data)\n",
    "            labels = est.labels_                           \n",
    "            db.append(davies_bouldin_score(data, labels))\n",
    "            ca.append(calinski_harabasz_score(data, labels))\n",
    "            sc.append(silhouette_score(data, labels))\n",
    "\n",
    "        n_clusters.append(np.argmin(db) + a)\n",
    "        n_clusters.append(np.argmax(ca) + a)\n",
    "        n_clusters.append(np.argmax(sc) + a)\n",
    "    return db, ca, sc, labels, n_clusters"
   ]
  },
  {
   "cell_type": "code",
   "execution_count": 7,
   "id": "dff68fe0",
   "metadata": {},
   "outputs": [],
   "source": [
    "clusterers = [KMeans, AgglomerativeClustering, DBSCAN]\n",
    "# clusterer_names = ['KMeans', 'AgglomerativeClustering', 'DBSCAN']\n",
    "\n",
    "def model_scores(df, scaler, first_model=False, lower=2, upper=8):\n",
    "    scores = {\n",
    "        'Cluster_Method': [],\n",
    "        'Davies_Bouldin_Score': [], \n",
    "        'Calinski_Harabasz_Score': [],\n",
    "        'Silhouette_Score': [],\n",
    "        'n_clusters': []\n",
    "    }\n",
    "    normalized_df = pd.DataFrame(scaler.fit_transform(df))\n",
    "    normalized_df.columns = df.columns\n",
    "    models = clusterers if not first_model else [clusterers[0]]\n",
    "    for i in models:\n",
    "        db, ca, sc, labels, n_clusters = model_train(i, normalized_df, lower, upper)\n",
    "        try:\n",
    "            scores['Cluster_Method'].append(i.__name__)\n",
    "            scores['Davies_Bouldin_Score'].append(np.min(db) if db and len(db)>0 else None)\n",
    "            scores['Calinski_Harabasz_Score'].append(np.max(ca) if ca and len(ca)>0 else None)\n",
    "            scores['Silhouette_Score'].append(np.max(sc) if sc and len(sc)>0 else None)\n",
    "            scores['n_clusters'].append(str(n_clusters))\n",
    "        except ValueError:\n",
    "            pass\n",
    "    return scores"
   ]
  },
  {
   "cell_type": "code",
   "execution_count": null,
   "id": "d3d038ab",
   "metadata": {},
   "outputs": [],
   "source": [
    "data_scores = pd.concat([\n",
    "    pd.DataFrame(model_scores(group_df, MinMaxScaler(), lower=3, upper=4))\n",
    "]).set_index(['Cluster_Method'])\n",
    "\n",
    "data_scores"
   ]
  },
  {
   "cell_type": "code",
   "execution_count": null,
   "id": "d041ac84",
   "metadata": {},
   "outputs": [],
   "source": [
    "pd.concat([\n",
    "    # Mejor modelo de acuerdo con Davies_Bouldin_Score\n",
    "    data_scores.loc[data_scores.Davies_Bouldin_Score == data_scores.Davies_Bouldin_Score.min()],\n",
    "    # Mejor modelo de acuerdo con Calinski_Harabasz_Score\n",
    "    data_scores.loc[data_scores.Calinski_Harabasz_Score == data_scores.Calinski_Harabasz_Score.max()],\n",
    "    # Mejor modelo de acuerdo con Silhouette_Score\n",
    "    data_scores.loc[data_scores.Silhouette_Score == data_scores.Silhouette_Score.max()]\n",
    "]).drop_duplicates()"
   ]
  },
  {
   "cell_type": "code",
   "execution_count": null,
   "id": "8c6bce1f",
   "metadata": {},
   "outputs": [],
   "source": []
  },
  {
   "cell_type": "code",
   "execution_count": null,
   "id": "571223f4",
   "metadata": {},
   "outputs": [],
   "source": []
  },
  {
   "cell_type": "markdown",
   "id": "884b7dc3",
   "metadata": {},
   "source": [
    "### Evaluación modelo de segmentación seleccionado"
   ]
  },
  {
   "cell_type": "code",
   "execution_count": null,
   "id": "5a210a87",
   "metadata": {},
   "outputs": [],
   "source": [
    "def model_plot(df, scaler, model):\n",
    "    normalized_df = pd.DataFrame(scaler.fit_transform(df))\n",
    "    normalized_df.columns = df.columns\n",
    "    \n",
    "    # Extract cluster labels\n",
    "    model.fit(normalized_df)\n",
    "    cluster_labels = model.labels_\n",
    "        \n",
    "    # Create a cluster label column in original dataset\n",
    "    df_new = df.assign(cluster=cluster_labels)\n",
    "    \n",
    "    # Initialise TSNE\n",
    "    model_tsne = TSNE(n_components=3, random_state=1)\n",
    "    transformed = model_tsne.fit_transform(df_new)\n",
    "    \n",
    "    fig = plt.figure()\n",
    "    fig.set_size_inches(12, 12)\n",
    "    ax = fig.add_subplot(111, projection='3d')\n",
    "\n",
    "    ax.scatter(xs=transformed[:,0], ys=transformed[:,1], zs=transformed[:,2], \n",
    "               c=df_new.cluster, cmap='Set1')\n",
    "    ax.set_title(f'Flattened Graph of {str(model)} model')\n",
    "    ax.set_xlabel(\"Component 1\")\n",
    "    ax.set_ylabel(\"Component 2\")\n",
    "    ax.set_zlabel(\"Component 3\")\n",
    "    \n",
    "    plt.show()\n",
    "\n",
    "def model_plot_2d(df, scaler, model):\n",
    "    normalized_df = pd.DataFrame(scaler.fit_transform(df))\n",
    "    normalized_df.columns = df.columns\n",
    "    \n",
    "    # Extract cluster labels\n",
    "    cluster_labels = None\n",
    "    if str(model).split('(')[0] == 'GaussianMixture':\n",
    "        cluster_labels = model.fit_predict(normalized_df)\n",
    "    else:\n",
    "        model.fit(normalized_df)\n",
    "        cluster_labels = model.labels_\n",
    "        \n",
    "    # Create a cluster label column in original dataset\n",
    "    df_new = df.assign(cluster=cluster_labels)\n",
    "    \n",
    "    # Initialise TSNE\n",
    "    model_tsne = TSNE(random_state=1)\n",
    "    transformed = model_tsne.fit_transform(df_new)\n",
    "    \n",
    "    # Plot t-SNE\n",
    "    plt.title(f'Flattened Graph of {str(model)} model')\n",
    "    sns.scatterplot(x=transformed[:,0], y=transformed[:,1], hue=cluster_labels, \n",
    "                    style=cluster_labels, palette='deep')\n",
    "    \n",
    "    return normalized_df, df_new\n",
    "\n",
    "def snake_plot(normalized_df, df_cluster, df_original, columns_vars):\n",
    "\n",
    "    normalized_df = pd.DataFrame(normalized_df.values, \n",
    "                                 index=df_original.index, \n",
    "                                 columns=df_original.columns)\n",
    "    \n",
    "    normalized_df['cluster'] = df_cluster['cluster']\n",
    "\n",
    "    # Melt data into long format\n",
    "    df_melt = pd.melt(normalized_df.reset_index(), \n",
    "                      id_vars=['saldo_actual', 'cluster'],\n",
    "                      value_vars=columns_vars,\n",
    "                      var_name='metric', \n",
    "                      value_name='value')\n",
    "    plt.xlabel('metric')\n",
    "    plt.ylabel('value')\n",
    "    sns.pointplot(data=df_melt, x='metric', y='value', hue='cluster', palette=\"Set2\")\n",
    "    \n",
    "    return"
   ]
  },
  {
   "cell_type": "code",
   "execution_count": null,
   "id": "0176f071",
   "metadata": {},
   "outputs": [],
   "source": []
  },
  {
   "cell_type": "code",
   "execution_count": null,
   "id": "9733be4c",
   "metadata": {},
   "outputs": [],
   "source": []
  },
  {
   "cell_type": "code",
   "execution_count": null,
   "id": "bf8f3003",
   "metadata": {},
   "outputs": [],
   "source": []
  },
  {
   "cell_type": "code",
   "execution_count": null,
   "id": "ada28d62",
   "metadata": {},
   "outputs": [],
   "source": []
  },
  {
   "cell_type": "code",
   "execution_count": null,
   "id": "588ad28b",
   "metadata": {},
   "outputs": [],
   "source": []
  },
  {
   "cell_type": "code",
   "execution_count": null,
   "id": "8a95b890",
   "metadata": {},
   "outputs": [],
   "source": []
  }
 ],
 "metadata": {
  "kernelspec": {
   "display_name": "Python 3",
   "language": "python",
   "name": "python3"
  },
  "language_info": {
   "codemirror_mode": {
    "name": "ipython",
    "version": 3
   },
   "file_extension": ".py",
   "mimetype": "text/x-python",
   "name": "python",
   "nbconvert_exporter": "python",
   "pygments_lexer": "ipython3",
   "version": "3.8.8"
  }
 },
 "nbformat": 4,
 "nbformat_minor": 5
}
