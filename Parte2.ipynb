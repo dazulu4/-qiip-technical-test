{
 "cells": [
  {
   "cell_type": "markdown",
   "id": "2cada600",
   "metadata": {},
   "source": [
    "Parte 2\n",
    "==="
   ]
  },
  {
   "cell_type": "code",
   "execution_count": 1,
   "id": "3ed00b0e",
   "metadata": {},
   "outputs": [],
   "source": [
    "import warnings as ws\n",
    "ws.filterwarnings(\"ignore\")\n",
    "\n",
    "import pickle\n",
    "import numpy as np\n",
    "import pandas as pd\n",
    "pd.set_option('float_format', '{:,.2f}'.format)\n",
    "\n",
    "import seaborn as sns\n",
    "import matplotlib.pyplot as plt\n",
    "\n",
    "sns.set(style=\"darkgrid\")\n",
    "%matplotlib inline\n",
    "\n",
    "from sklearn.ensemble import IsolationForest"
   ]
  },
  {
   "cell_type": "markdown",
   "id": "39f8457c",
   "metadata": {},
   "source": [
    "## Procedimientos de limpieza y estandarización"
   ]
  },
  {
   "cell_type": "code",
   "execution_count": 2,
   "id": "ce1924e6",
   "metadata": {},
   "outputs": [],
   "source": [
    "# Procedimientos de limpieza, estandarización y construcción de características\n",
    "\n",
    "def build_age_ranges(value, ranges):\n",
    "    range_ = None\n",
    "    for r in ranges:\n",
    "        if value in r:\n",
    "            range_ = r\n",
    "            break\n",
    "    return range_\n",
    "\n",
    "def build_user_profile(value):\n",
    "    if value == 1:\n",
    "        return 'Usuario en quiebra'\n",
    "    elif value == 7:\n",
    "        return 'Joven'\n",
    "    elif value >= 150 and value < 400:\n",
    "        return 'Bajo'\n",
    "    elif value >= 400 and value < 700:\n",
    "        return 'Medio'\n",
    "    elif value >= 700:\n",
    "        return 'Alto'\n",
    "    else:\n",
    "        return 'Sin registro'\n",
    "        \n",
    "def clean_build_data(data_df):\n",
    "    # Eliminamos las características que no serán requeridas\n",
    "    no_missing_columns = None\n",
    "    with open('output/columns_no_missing.pkl', 'rb') as f:\n",
    "        no_missing_columns = pickle.load(f)\n",
    "    data_df = data_df[no_missing_columns]\n",
    "\n",
    "    # Reemplazamos valores negativos en características numéricas por NULO\n",
    "    # y luego los valores nulos por cero (0)\n",
    "    types_temp = data_df.dtypes.astype(str)\n",
    "    columns_temp = types_temp[types_temp.isin(['int64', 'float64'])].index.tolist()\n",
    "    columns_temp_zeros = [i for i in columns_temp if i not in ['edad', 'Promedio de cantidad_cuotas']]\n",
    "    for column in columns_temp:\n",
    "        data_df[column] = data_df[column].apply(lambda x: np.nan if x < 0 else x)\n",
    "    for column in columns_temp_zeros:\n",
    "        data_df[column] = data_df[column].fillna(0)\n",
    "        \n",
    "    # Reemplazamos nulos en genero por OTRO\n",
    "    data_df['genero'] = data_df['genero'].fillna('OTRO')\n",
    "    \n",
    "    # Imputamos edad con su media\n",
    "    age_imputer = 31\n",
    "    data_df['edad'] = data_df['edad'].fillna(age_imputer)\n",
    "    \n",
    "    # Imputamos Promedio de cantidad_cuotas con su mediana\n",
    "    amount_fees_imputer = 3.2\n",
    "    data_df['Promedio de cantidad_cuotas'] = data_df['Promedio de cantidad_cuotas'].fillna(amount_fees_imputer)\n",
    "\n",
    "    # Creamos variable rango de edad\n",
    "    age_ranges = None\n",
    "    with open('output/age_ranges.pkl', 'rb') as f:\n",
    "        age_ranges = pickle.load(f)\n",
    "    \n",
    "    data_df['rango_edad'] = data_df['edad'].apply(\n",
    "        lambda x: build_age_ranges(x, age_ranges)\n",
    "    ).astype(str)\n",
    "    data_df = data_df.drop(columns=['edad'])\n",
    "    \n",
    "    # Estandarizamos variable Genero\n",
    "    genero_map = {\n",
    "        'MASCULINO': 'MASCULINO',\n",
    "        'FEMENINO': 'FEMENINO',\n",
    "        'OTRO': 'OTRO',\n",
    "        'DESCONOCIDO': 'OTRO',\n",
    "        'OMITIDO': 'OTRO',\n",
    "    }\n",
    "    data_df['genero'] = data_df['genero'].map(genero_map)\n",
    "    \n",
    "    # Estandarizamos variable Antiguedad\n",
    "    antiquity_map = {\n",
    "        'Menos de 6 meses': 'Menos de 6 meses',\n",
    "        'de 6 meses a 1 año': '6 meses o mas',\n",
    "        'mas de 1 año': '6 meses o mas',\n",
    "    }\n",
    "    data_df['Antiguedad'] = data_df['Antiguedad'].map(antiquity_map)\n",
    "    \n",
    "    # Estandarizamos variable mop historico\n",
    "    mop_map = {\n",
    "        'N': 'Al día',\n",
    "        '1': 'Mora 30 a 120 días',\n",
    "        '2': 'Mora 30 a 120 días',\n",
    "        '3': 'Mora 30 a 120 días',\n",
    "        '4': 'Mora 30 a 120 días',\n",
    "        '5': 'Mora > 120 días',\n",
    "        '6': 'Mora > 120 días',\n",
    "    }\n",
    "    data_df['mop_historico'] = data_df['mop_historico'].map(mop_map)\n",
    "    data_df['mop_historico'] = data_df['mop_historico'].fillna('Sin registro')\n",
    "\n",
    "    # Construimos variable perfil de usuario\n",
    "    data_df['perfil_usuario'] = data_df['score'].apply(build_user_profile)\n",
    "    data_df = data_df.drop(columns=['score'])\n",
    "    \n",
    "    # Convertimos Garantia en categorica\n",
    "    garantia_map = {\n",
    "        0.0: 'Sin garantia',\n",
    "        1.0: 'Tipo garantia 1',\n",
    "        2.0: 'Tipo garantia 2',\n",
    "    }\n",
    "    data_df['Garantia'] = data_df['Garantia'].map(garantia_map)\n",
    "    data_df['Garantia'] = data_df['Garantia'].fillna('Sin garantia')\n",
    "    \n",
    "    return data_df"
   ]
  },
  {
   "cell_type": "code",
   "execution_count": 3,
   "id": "d590a478",
   "metadata": {},
   "outputs": [],
   "source": [
    "# Procedimiento de homologación tipos de dato y conversión de categoricas\n",
    "\n",
    "target_column = ['Y']\n",
    "\n",
    "def standardize_data_types(data_df):\n",
    "    types_temp = data_df.dtypes.astype(str)\n",
    "    categorical_columns = types_temp[types_temp.isin(['object'])].index.tolist()\n",
    "    numerical_columns = types_temp[types_temp.isin(['int64', 'float64'])].index.tolist()\n",
    "    numeric_int_columns = ['Creditos', 'Promedio de cantidad_cuotas', 'ahorro_impacto', 'bienestar_financiero_impacto', 'coaching_impacto',\n",
    "                       'Tiene_ahorro', 'Comunicaciones_pagos_vencidos', 'consumo_pagos_vencidos']\n",
    "\n",
    "    for i, column in enumerate(numeric_int_columns):\n",
    "        data_df[column] = data_df[column].astype('int64')\n",
    "    \n",
    "    return data_df, categorical_columns, numerical_columns\n",
    "\n",
    "def get_dummies_fields(data_df, categorical_columns):\n",
    "    return pd.get_dummies(data_df, columns=categorical_columns)"
   ]
  },
  {
   "cell_type": "markdown",
   "id": "8c1add0a",
   "metadata": {},
   "source": [
    "## 1. Carga de la base de datos"
   ]
  },
  {
   "cell_type": "code",
   "execution_count": 4,
   "id": "42324bd3",
   "metadata": {},
   "outputs": [
    {
     "data": {
      "text/plain": [
       "(50000, 80)"
      ]
     },
     "execution_count": 4,
     "metadata": {},
     "output_type": "execute_result"
    }
   ],
   "source": [
    "df = pd.read_csv('data/Perfilador_Reparadora.csv', encoding='utf-8', index_col=0).reset_index(drop=True)\n",
    "\n",
    "df.shape"
   ]
  },
  {
   "attachments": {},
   "cell_type": "markdown",
   "id": "4b44e9b6",
   "metadata": {},
   "source": [
    "### Aplicamos la regla de negocio saldo actual > 4.500.000"
   ]
  },
  {
   "cell_type": "code",
   "execution_count": 5,
   "id": "c1edc51e",
   "metadata": {},
   "outputs": [
    {
     "data": {
      "text/plain": [
       "count          50,000.00\n",
       "mean       33,561,800.17\n",
       "std        67,898,139.51\n",
       "min         4,500,000.00\n",
       "25%         7,815,000.00\n",
       "50%        16,778,000.00\n",
       "75%        39,212,250.00\n",
       "max     6,082,201,976.00\n",
       "Name: saldo_actual, dtype: float64"
      ]
     },
     "execution_count": 5,
     "metadata": {},
     "output_type": "execute_result"
    }
   ],
   "source": [
    "df.saldo_actual.describe()"
   ]
  },
  {
   "attachments": {},
   "cell_type": "markdown",
   "id": "17822c83",
   "metadata": {},
   "source": [
    "Según el reporte anterior, los datos ya se encuentran filtrados por **saldo_actual** mayores o iguales que **$4.500.000**"
   ]
  },
  {
   "cell_type": "markdown",
   "id": "d5945e4d",
   "metadata": {},
   "source": [
    "## 2. Aplicación procedimientos sobre variables"
   ]
  },
  {
   "cell_type": "code",
   "execution_count": 9,
   "id": "c9a6abff",
   "metadata": {},
   "outputs": [
    {
     "data": {
      "text/plain": [
       "(50000, 80)"
      ]
     },
     "execution_count": 9,
     "metadata": {},
     "output_type": "execute_result"
    }
   ],
   "source": [
    "result_df = df.copy()\n",
    "result_df.shape"
   ]
  },
  {
   "cell_type": "code",
   "execution_count": 10,
   "id": "7d3c709e",
   "metadata": {},
   "outputs": [
    {
     "data": {
      "text/plain": [
       "(50000, 25)"
      ]
     },
     "execution_count": 10,
     "metadata": {},
     "output_type": "execute_result"
    }
   ],
   "source": [
    "# Limpieza de los datos\n",
    "\n",
    "result_df = clean_build_data(result_df)\n",
    "result_df = result_df.dropna(how='all', axis=0)\n",
    "result_df = result_df.fillna(0, axis=0)\n",
    "result_df.shape"
   ]
  },
  {
   "cell_type": "code",
   "execution_count": 11,
   "id": "1370b6a8",
   "metadata": {},
   "outputs": [
    {
     "data": {
      "text/plain": [
       "(50000, 41)"
      ]
     },
     "execution_count": 11,
     "metadata": {},
     "output_type": "execute_result"
    }
   ],
   "source": [
    "# Estandarización y homologación\n",
    "\n",
    "result_df, categorical_columns, numerical_columns = standardize_data_types(result_df)\n",
    "result_df = get_dummies_fields(result_df, categorical_columns)\n",
    "\n",
    "result_df.shape"
   ]
  },
  {
   "cell_type": "code",
   "execution_count": 12,
   "id": "a1b5b08e",
   "metadata": {},
   "outputs": [
    {
     "data": {
      "text/plain": [
       "(14,)"
      ]
     },
     "execution_count": 12,
     "metadata": {},
     "output_type": "execute_result"
    }
   ],
   "source": [
    "# Cargamos el objeto con las columnas relevantes para entrenamiento\n",
    "\n",
    "model_columns = None\n",
    "\n",
    "with open('output/columns.pkl', 'rb') as f:\n",
    "    model_columns = pickle.load(f)\n",
    "    \n",
    "model_columns.shape"
   ]
  },
  {
   "cell_type": "code",
   "execution_count": 13,
   "id": "9c0a840e",
   "metadata": {},
   "outputs": [
    {
     "data": {
      "text/plain": [
       "(50000, 41)"
      ]
     },
     "execution_count": 13,
     "metadata": {},
     "output_type": "execute_result"
    }
   ],
   "source": [
    "# Ajustamos el conjunto de datos nuevo a las columnas faltantes del conjunto con que se entreno\n",
    "# Se imputan los valores con cero\n",
    "\n",
    "for col in [i for i in model_columns if i not in result_df.columns]:\n",
    "    result_df[col] = 0\n",
    "\n",
    "result_df.shape"
   ]
  },
  {
   "cell_type": "code",
   "execution_count": 14,
   "id": "07e86dd5",
   "metadata": {},
   "outputs": [
    {
     "name": "stdout",
     "output_type": "stream",
     "text": [
      "<class 'pandas.core.frame.DataFrame'>\n",
      "RangeIndex: 50000 entries, 0 to 49999\n",
      "Data columns (total 14 columns):\n",
      " #   Column                         Non-Null Count  Dtype  \n",
      "---  ------                         --------------  -----  \n",
      " 0   Creditos                       50000 non-null  int64  \n",
      " 1   saldo_actual                   50000 non-null  int64  \n",
      " 2   saldo_vencido                  50000 non-null  float64\n",
      " 3   Promedio de limite_credito     50000 non-null  float64\n",
      " 4   Promedio de credito_maximo     50000 non-null  float64\n",
      " 5   Promedio de cantidad_cuotas    50000 non-null  int64  \n",
      " 6   Promedio de valor_cuota        50000 non-null  float64\n",
      " 7   coaching_impacto               50000 non-null  int64  \n",
      " 8   Comunicaciones_saldo_actual    50000 non-null  float64\n",
      " 9   Comunicaciones_pagos_vencidos  50000 non-null  int64  \n",
      " 10  Consumo_saldo_actual           50000 non-null  float64\n",
      " 11  perfil_usuario_Alto            50000 non-null  uint8  \n",
      " 12  perfil_usuario_Joven           50000 non-null  uint8  \n",
      " 13  perfil_usuario_Sin registro    50000 non-null  uint8  \n",
      "dtypes: float64(6), int64(5), uint8(3)\n",
      "memory usage: 4.3 MB\n"
     ]
    }
   ],
   "source": [
    "X = result_df[model_columns].reset_index(drop=True)\n",
    "X.info()"
   ]
  },
  {
   "cell_type": "markdown",
   "id": "970adbec",
   "metadata": {},
   "source": [
    "## 3. Aplicación modelo en nuevas observaciones"
   ]
  },
  {
   "cell_type": "code",
   "execution_count": 15,
   "id": "886e8641",
   "metadata": {},
   "outputs": [
    {
     "data": {
      "text/html": [
       "<style>#sk-container-id-1 {color: black;background-color: white;}#sk-container-id-1 pre{padding: 0;}#sk-container-id-1 div.sk-toggleable {background-color: white;}#sk-container-id-1 label.sk-toggleable__label {cursor: pointer;display: block;width: 100%;margin-bottom: 0;padding: 0.3em;box-sizing: border-box;text-align: center;}#sk-container-id-1 label.sk-toggleable__label-arrow:before {content: \"▸\";float: left;margin-right: 0.25em;color: #696969;}#sk-container-id-1 label.sk-toggleable__label-arrow:hover:before {color: black;}#sk-container-id-1 div.sk-estimator:hover label.sk-toggleable__label-arrow:before {color: black;}#sk-container-id-1 div.sk-toggleable__content {max-height: 0;max-width: 0;overflow: hidden;text-align: left;background-color: #f0f8ff;}#sk-container-id-1 div.sk-toggleable__content pre {margin: 0.2em;color: black;border-radius: 0.25em;background-color: #f0f8ff;}#sk-container-id-1 input.sk-toggleable__control:checked~div.sk-toggleable__content {max-height: 200px;max-width: 100%;overflow: auto;}#sk-container-id-1 input.sk-toggleable__control:checked~label.sk-toggleable__label-arrow:before {content: \"▾\";}#sk-container-id-1 div.sk-estimator input.sk-toggleable__control:checked~label.sk-toggleable__label {background-color: #d4ebff;}#sk-container-id-1 div.sk-label input.sk-toggleable__control:checked~label.sk-toggleable__label {background-color: #d4ebff;}#sk-container-id-1 input.sk-hidden--visually {border: 0;clip: rect(1px 1px 1px 1px);clip: rect(1px, 1px, 1px, 1px);height: 1px;margin: -1px;overflow: hidden;padding: 0;position: absolute;width: 1px;}#sk-container-id-1 div.sk-estimator {font-family: monospace;background-color: #f0f8ff;border: 1px dotted black;border-radius: 0.25em;box-sizing: border-box;margin-bottom: 0.5em;}#sk-container-id-1 div.sk-estimator:hover {background-color: #d4ebff;}#sk-container-id-1 div.sk-parallel-item::after {content: \"\";width: 100%;border-bottom: 1px solid gray;flex-grow: 1;}#sk-container-id-1 div.sk-label:hover label.sk-toggleable__label {background-color: #d4ebff;}#sk-container-id-1 div.sk-serial::before {content: \"\";position: absolute;border-left: 1px solid gray;box-sizing: border-box;top: 0;bottom: 0;left: 50%;z-index: 0;}#sk-container-id-1 div.sk-serial {display: flex;flex-direction: column;align-items: center;background-color: white;padding-right: 0.2em;padding-left: 0.2em;position: relative;}#sk-container-id-1 div.sk-item {position: relative;z-index: 1;}#sk-container-id-1 div.sk-parallel {display: flex;align-items: stretch;justify-content: center;background-color: white;position: relative;}#sk-container-id-1 div.sk-item::before, #sk-container-id-1 div.sk-parallel-item::before {content: \"\";position: absolute;border-left: 1px solid gray;box-sizing: border-box;top: 0;bottom: 0;left: 50%;z-index: -1;}#sk-container-id-1 div.sk-parallel-item {display: flex;flex-direction: column;z-index: 1;position: relative;background-color: white;}#sk-container-id-1 div.sk-parallel-item:first-child::after {align-self: flex-end;width: 50%;}#sk-container-id-1 div.sk-parallel-item:last-child::after {align-self: flex-start;width: 50%;}#sk-container-id-1 div.sk-parallel-item:only-child::after {width: 0;}#sk-container-id-1 div.sk-dashed-wrapped {border: 1px dashed gray;margin: 0 0.4em 0.5em 0.4em;box-sizing: border-box;padding-bottom: 0.4em;background-color: white;}#sk-container-id-1 div.sk-label label {font-family: monospace;font-weight: bold;display: inline-block;line-height: 1.2em;}#sk-container-id-1 div.sk-label-container {text-align: center;}#sk-container-id-1 div.sk-container {/* jupyter's `normalize.less` sets `[hidden] { display: none; }` but bootstrap.min.css set `[hidden] { display: none !important; }` so we also need the `!important` here to be able to override the default hidden behavior on the sphinx rendered scikit-learn.org. See: https://github.com/scikit-learn/scikit-learn/issues/21755 */display: inline-block !important;position: relative;}#sk-container-id-1 div.sk-text-repr-fallback {display: none;}</style><div id=\"sk-container-id-1\" class=\"sk-top-container\"><div class=\"sk-text-repr-fallback\"><pre>BalancedBaggingClassifier(base_estimator=RandomForestClassifier(random_state=0),\n",
       "                          random_state=0)</pre><b>In a Jupyter environment, please rerun this cell to show the HTML representation or trust the notebook. <br />On GitHub, the HTML representation is unable to render, please try loading this page with nbviewer.org.</b></div><div class=\"sk-container\" hidden><div class=\"sk-item sk-dashed-wrapped\"><div class=\"sk-label-container\"><div class=\"sk-label sk-toggleable\"><input class=\"sk-toggleable__control sk-hidden--visually\" id=\"sk-estimator-id-1\" type=\"checkbox\" ><label for=\"sk-estimator-id-1\" class=\"sk-toggleable__label sk-toggleable__label-arrow\">BalancedBaggingClassifier</label><div class=\"sk-toggleable__content\"><pre>BalancedBaggingClassifier(base_estimator=RandomForestClassifier(random_state=0),\n",
       "                          random_state=0)</pre></div></div></div><div class=\"sk-parallel\"><div class=\"sk-parallel-item\"><div class=\"sk-item\"><div class=\"sk-label-container\"><div class=\"sk-label sk-toggleable\"><input class=\"sk-toggleable__control sk-hidden--visually\" id=\"sk-estimator-id-2\" type=\"checkbox\" ><label for=\"sk-estimator-id-2\" class=\"sk-toggleable__label sk-toggleable__label-arrow\">base_estimator: RandomForestClassifier</label><div class=\"sk-toggleable__content\"><pre>RandomForestClassifier(random_state=0)</pre></div></div></div><div class=\"sk-serial\"><div class=\"sk-item\"><div class=\"sk-estimator sk-toggleable\"><input class=\"sk-toggleable__control sk-hidden--visually\" id=\"sk-estimator-id-3\" type=\"checkbox\" ><label for=\"sk-estimator-id-3\" class=\"sk-toggleable__label sk-toggleable__label-arrow\">RandomForestClassifier</label><div class=\"sk-toggleable__content\"><pre>RandomForestClassifier(random_state=0)</pre></div></div></div></div></div></div></div></div></div></div>"
      ],
      "text/plain": [
       "BalancedBaggingClassifier(base_estimator=RandomForestClassifier(random_state=0),\n",
       "                          random_state=0)"
      ]
     },
     "execution_count": 15,
     "metadata": {},
     "output_type": "execute_result"
    }
   ],
   "source": [
    "with open('output/model.pkl', 'rb') as f:\n",
    "    model = pickle.load(f)\n",
    "    \n",
    "model"
   ]
  },
  {
   "cell_type": "code",
   "execution_count": 16,
   "id": "0da82506",
   "metadata": {},
   "outputs": [
    {
     "data": {
      "text/plain": [
       "1    49175\n",
       "0      825\n",
       "dtype: int64"
      ]
     },
     "execution_count": 16,
     "metadata": {},
     "output_type": "execute_result"
    }
   ],
   "source": [
    "pred_y = model.predict(X)\n",
    "\n",
    "pd.Series(pred_y).value_counts()"
   ]
  },
  {
   "cell_type": "code",
   "execution_count": 17,
   "id": "e54305cf",
   "metadata": {},
   "outputs": [
    {
     "data": {
      "text/plain": [
       "<AxesSubplot:ylabel='count'>"
      ]
     },
     "execution_count": 17,
     "metadata": {},
     "output_type": "execute_result"
    },
    {
     "data": {
      "image/png": "[encoded data removed]",
      "text/plain": [
       "<Figure size 864x576 with 1 Axes>"
      ]
     },
     "metadata": {
      "needs_background": "light"
     },
     "output_type": "display_data"
    }
   ],
   "source": [
    "f, ax = plt.subplots(figsize=(12, 8))\n",
    "sns.countplot(x=pred_y, ax=ax)"
   ]
  },
  {
   "attachments": {},
   "cell_type": "markdown",
   "id": "7f9f18f2",
   "metadata": {},
   "source": [
    "## 4. Construcción variable de particionamiento\n",
    "Vamos a tomar todos los usuarios marcados como **Rechazados** y los vamos a eliminar, asumiendo que el modelo tiene una calidad bastante aceptable para descartar."
   ]
  },
  {
   "cell_type": "code",
   "execution_count": 18,
   "id": "c76063d1",
   "metadata": {},
   "outputs": [
    {
     "data": {
      "text/plain": [
       "(49175, 14)"
      ]
     },
     "execution_count": 18,
     "metadata": {},
     "output_type": "execute_result"
    }
   ],
   "source": [
    "final_df = X.copy()\n",
    "final_df['Y'] = pred_y\n",
    "final_df = final_df[final_df.Y == 1]\n",
    "final_df = final_df.drop(columns='Y')\n",
    "\n",
    "final_df.to_csv('data/result.csv', sep=\";\", encoding=\"utf-8\", index=False)\n",
    "\n",
    "final_df.shape"
   ]
  },
  {
   "cell_type": "code",
   "execution_count": 19,
   "id": "af5327ef",
   "metadata": {},
   "outputs": [
    {
     "data": {
      "text/plain": [
       "Index(['Creditos', 'saldo_actual', 'saldo_vencido',\n",
       "       'Promedio de limite_credito', 'Promedio de credito_maximo',\n",
       "       'Promedio de cantidad_cuotas', 'Promedio de valor_cuota',\n",
       "       'coaching_impacto', 'Comunicaciones_saldo_actual',\n",
       "       'Comunicaciones_pagos_vencidos', 'Consumo_saldo_actual',\n",
       "       'perfil_usuario_Alto', 'perfil_usuario_Joven',\n",
       "       'perfil_usuario_Sin registro'],\n",
       "      dtype='object')"
      ]
     },
     "execution_count": 19,
     "metadata": {},
     "output_type": "execute_result"
    }
   ],
   "source": [
    "final_df.columns"
   ]
  },
  {
   "cell_type": "code",
   "execution_count": 20,
   "id": "deb87c3f",
   "metadata": {},
   "outputs": [
    {
     "data": {
      "text/html": [
       "<div>\n",
       "<style scoped>\n",
       "    .dataframe tbody tr th:only-of-type {\n",
       "        vertical-align: middle;\n",
       "    }\n",
       "\n",
       "    .dataframe tbody tr th {\n",
       "        vertical-align: top;\n",
       "    }\n",
       "\n",
       "    .dataframe thead th {\n",
       "        text-align: right;\n",
       "    }\n",
       "</style>\n",
       "<table border=\"1\" class=\"dataframe\">\n",
       "  <thead>\n",
       "    <tr style=\"text-align: right;\">\n",
       "      <th></th>\n",
       "      <th>count</th>\n",
       "      <th>mean</th>\n",
       "      <th>std</th>\n",
       "      <th>min</th>\n",
       "      <th>25%</th>\n",
       "      <th>50%</th>\n",
       "      <th>75%</th>\n",
       "      <th>max</th>\n",
       "    </tr>\n",
       "  </thead>\n",
       "  <tbody>\n",
       "    <tr>\n",
       "      <th>Creditos</th>\n",
       "      <td>49,175.00</td>\n",
       "      <td>1.64</td>\n",
       "      <td>1.19</td>\n",
       "      <td>1.00</td>\n",
       "      <td>1.00</td>\n",
       "      <td>1.00</td>\n",
       "      <td>2.00</td>\n",
       "      <td>26.00</td>\n",
       "    </tr>\n",
       "    <tr>\n",
       "      <th>saldo_actual</th>\n",
       "      <td>49,175.00</td>\n",
       "      <td>33,710,325.34</td>\n",
       "      <td>68,336,864.10</td>\n",
       "      <td>4,500,000.00</td>\n",
       "      <td>7,863,500.00</td>\n",
       "      <td>16,843,000.00</td>\n",
       "      <td>39,381,500.00</td>\n",
       "      <td>6,082,201,976.00</td>\n",
       "    </tr>\n",
       "    <tr>\n",
       "      <th>saldo_vencido</th>\n",
       "      <td>49,175.00</td>\n",
       "      <td>3,202,049.68</td>\n",
       "      <td>16,762,885.98</td>\n",
       "      <td>0.00</td>\n",
       "      <td>0.00</td>\n",
       "      <td>0.00</td>\n",
       "      <td>0.00</td>\n",
       "      <td>1,608,429,952.00</td>\n",
       "    </tr>\n",
       "    <tr>\n",
       "      <th>Promedio de limite_credito</th>\n",
       "      <td>49,175.00</td>\n",
       "      <td>1,031,109.77</td>\n",
       "      <td>3,531,293.81</td>\n",
       "      <td>0.00</td>\n",
       "      <td>0.00</td>\n",
       "      <td>0.00</td>\n",
       "      <td>0.00</td>\n",
       "      <td>101,900,000.00</td>\n",
       "    </tr>\n",
       "    <tr>\n",
       "      <th>Promedio de credito_maximo</th>\n",
       "      <td>49,175.00</td>\n",
       "      <td>18,864,845.65</td>\n",
       "      <td>23,789,915.44</td>\n",
       "      <td>0.00</td>\n",
       "      <td>6,233,333.33</td>\n",
       "      <td>11,666,666.67</td>\n",
       "      <td>24,000,000.00</td>\n",
       "      <td>835,961,274.91</td>\n",
       "    </tr>\n",
       "    <tr>\n",
       "      <th>Promedio de cantidad_cuotas</th>\n",
       "      <td>49,175.00</td>\n",
       "      <td>62.90</td>\n",
       "      <td>55.15</td>\n",
       "      <td>0.00</td>\n",
       "      <td>30.00</td>\n",
       "      <td>60.00</td>\n",
       "      <td>78.00</td>\n",
       "      <td>592.00</td>\n",
       "    </tr>\n",
       "    <tr>\n",
       "      <th>Promedio de valor_cuota</th>\n",
       "      <td>49,175.00</td>\n",
       "      <td>1,562,227.66</td>\n",
       "      <td>5,817,381.15</td>\n",
       "      <td>0.00</td>\n",
       "      <td>250,000.00</td>\n",
       "      <td>404,333.33</td>\n",
       "      <td>746,500.00</td>\n",
       "      <td>339,129,984.00</td>\n",
       "    </tr>\n",
       "    <tr>\n",
       "      <th>coaching_impacto</th>\n",
       "      <td>49,175.00</td>\n",
       "      <td>0.00</td>\n",
       "      <td>0.07</td>\n",
       "      <td>0.00</td>\n",
       "      <td>0.00</td>\n",
       "      <td>0.00</td>\n",
       "      <td>0.00</td>\n",
       "      <td>1.00</td>\n",
       "    </tr>\n",
       "    <tr>\n",
       "      <th>Comunicaciones_saldo_actual</th>\n",
       "      <td>49,175.00</td>\n",
       "      <td>975.17</td>\n",
       "      <td>77,557.96</td>\n",
       "      <td>0.00</td>\n",
       "      <td>0.00</td>\n",
       "      <td>0.00</td>\n",
       "      <td>0.00</td>\n",
       "      <td>7,896,000.00</td>\n",
       "    </tr>\n",
       "    <tr>\n",
       "      <th>Comunicaciones_pagos_vencidos</th>\n",
       "      <td>49,175.00</td>\n",
       "      <td>0.00</td>\n",
       "      <td>0.13</td>\n",
       "      <td>0.00</td>\n",
       "      <td>0.00</td>\n",
       "      <td>0.00</td>\n",
       "      <td>0.00</td>\n",
       "      <td>14.00</td>\n",
       "    </tr>\n",
       "    <tr>\n",
       "      <th>Consumo_saldo_actual</th>\n",
       "      <td>49,175.00</td>\n",
       "      <td>17,365,392.21</td>\n",
       "      <td>41,127,608.45</td>\n",
       "      <td>0.00</td>\n",
       "      <td>0.00</td>\n",
       "      <td>7,569,000.00</td>\n",
       "      <td>19,692,500.00</td>\n",
       "      <td>3,776,354,064.00</td>\n",
       "    </tr>\n",
       "    <tr>\n",
       "      <th>perfil_usuario_Alto</th>\n",
       "      <td>49,175.00</td>\n",
       "      <td>0.31</td>\n",
       "      <td>0.46</td>\n",
       "      <td>0.00</td>\n",
       "      <td>0.00</td>\n",
       "      <td>0.00</td>\n",
       "      <td>1.00</td>\n",
       "      <td>1.00</td>\n",
       "    </tr>\n",
       "    <tr>\n",
       "      <th>perfil_usuario_Joven</th>\n",
       "      <td>49,175.00</td>\n",
       "      <td>0.00</td>\n",
       "      <td>0.03</td>\n",
       "      <td>0.00</td>\n",
       "      <td>0.00</td>\n",
       "      <td>0.00</td>\n",
       "      <td>0.00</td>\n",
       "      <td>1.00</td>\n",
       "    </tr>\n",
       "    <tr>\n",
       "      <th>perfil_usuario_Sin registro</th>\n",
       "      <td>49,175.00</td>\n",
       "      <td>0.35</td>\n",
       "      <td>0.48</td>\n",
       "      <td>0.00</td>\n",
       "      <td>0.00</td>\n",
       "      <td>0.00</td>\n",
       "      <td>1.00</td>\n",
       "      <td>1.00</td>\n",
       "    </tr>\n",
       "  </tbody>\n",
       "</table>\n",
       "</div>"
      ],
      "text/plain": [
       "                                  count          mean           std  \\\n",
       "Creditos                      49,175.00          1.64          1.19   \n",
       "saldo_actual                  49,175.00 33,710,325.34 68,336,864.10   \n",
       "saldo_vencido                 49,175.00  3,202,049.68 16,762,885.98   \n",
       "Promedio de limite_credito    49,175.00  1,031,109.77  3,531,293.81   \n",
       "Promedio de credito_maximo    49,175.00 18,864,845.65 23,789,915.44   \n",
       "Promedio de cantidad_cuotas   49,175.00         62.90         55.15   \n",
       "Promedio de valor_cuota       49,175.00  1,562,227.66  5,817,381.15   \n",
       "coaching_impacto              49,175.00          0.00          0.07   \n",
       "Comunicaciones_saldo_actual   49,175.00        975.17     77,557.96   \n",
       "Comunicaciones_pagos_vencidos 49,175.00          0.00          0.13   \n",
       "Consumo_saldo_actual          49,175.00 17,365,392.21 41,127,608.45   \n",
       "perfil_usuario_Alto           49,175.00          0.31          0.46   \n",
       "perfil_usuario_Joven          49,175.00          0.00          0.03   \n",
       "perfil_usuario_Sin registro   49,175.00          0.35          0.48   \n",
       "\n",
       "                                       min          25%           50%  \\\n",
       "Creditos                              1.00         1.00          1.00   \n",
       "saldo_actual                  4,500,000.00 7,863,500.00 16,843,000.00   \n",
       "saldo_vencido                         0.00         0.00          0.00   \n",
       "Promedio de limite_credito            0.00         0.00          0.00   \n",
       "Promedio de credito_maximo            0.00 6,233,333.33 11,666,666.67   \n",
       "Promedio de cantidad_cuotas           0.00        30.00         60.00   \n",
       "Promedio de valor_cuota               0.00   250,000.00    404,333.33   \n",
       "coaching_impacto                      0.00         0.00          0.00   \n",
       "Comunicaciones_saldo_actual           0.00         0.00          0.00   \n",
       "Comunicaciones_pagos_vencidos         0.00         0.00          0.00   \n",
       "Consumo_saldo_actual                  0.00         0.00  7,569,000.00   \n",
       "perfil_usuario_Alto                   0.00         0.00          0.00   \n",
       "perfil_usuario_Joven                  0.00         0.00          0.00   \n",
       "perfil_usuario_Sin registro           0.00         0.00          0.00   \n",
       "\n",
       "                                        75%              max  \n",
       "Creditos                               2.00            26.00  \n",
       "saldo_actual                  39,381,500.00 6,082,201,976.00  \n",
       "saldo_vencido                          0.00 1,608,429,952.00  \n",
       "Promedio de limite_credito             0.00   101,900,000.00  \n",
       "Promedio de credito_maximo    24,000,000.00   835,961,274.91  \n",
       "Promedio de cantidad_cuotas           78.00           592.00  \n",
       "Promedio de valor_cuota          746,500.00   339,129,984.00  \n",
       "coaching_impacto                       0.00             1.00  \n",
       "Comunicaciones_saldo_actual            0.00     7,896,000.00  \n",
       "Comunicaciones_pagos_vencidos          0.00            14.00  \n",
       "Consumo_saldo_actual          19,692,500.00 3,776,354,064.00  \n",
       "perfil_usuario_Alto                    1.00             1.00  \n",
       "perfil_usuario_Joven                   0.00             1.00  \n",
       "perfil_usuario_Sin registro            1.00             1.00  "
      ]
     },
     "execution_count": 20,
     "metadata": {},
     "output_type": "execute_result"
    }
   ],
   "source": [
    "final_df.describe().transpose()"
   ]
  },
  {
   "attachments": {},
   "cell_type": "markdown",
   "id": "570af7d8",
   "metadata": {},
   "source": [
    "Notese que algunas variables tienen varianzas muy altas. Esto puede indicar que pueden haber errores en el conjunto de datos o que existen usuarios que se salen un poco de los rangos normales. Cualquiera que sea el motivo, vamos a revisar estos datos y a clasificar el conjunto de datos con una variable agrupadora."
   ]
  },
  {
   "attachments": {},
   "cell_type": "markdown",
   "id": "7be85be6",
   "metadata": {},
   "source": [
    "**NOTA IMPORTANTE:** De este punto en adelente no se tendrá en cuenta, ya que fue un intento de detectar valores atípicos y hacer un cluster de usuarios con dicho procesamiento. Realizaremos primero el modelado de Clustering y regresaremos a este enfoque si es necesario."
   ]
  },
  {
   "cell_type": "code",
   "execution_count": 21,
   "id": "b4d4bea0",
   "metadata": {},
   "outputs": [
    {
     "data": {
      "text/html": [
       "<div>\n",
       "<style scoped>\n",
       "    .dataframe tbody tr th:only-of-type {\n",
       "        vertical-align: middle;\n",
       "    }\n",
       "\n",
       "    .dataframe tbody tr th {\n",
       "        vertical-align: top;\n",
       "    }\n",
       "\n",
       "    .dataframe thead th {\n",
       "        text-align: right;\n",
       "    }\n",
       "</style>\n",
       "<table border=\"1\" class=\"dataframe\">\n",
       "  <thead>\n",
       "    <tr style=\"text-align: right;\">\n",
       "      <th></th>\n",
       "      <th>saldo_actual</th>\n",
       "      <th>saldo_vencido</th>\n",
       "      <th>Promedio de credito_maximo</th>\n",
       "      <th>Consumo_saldo_actual</th>\n",
       "    </tr>\n",
       "  </thead>\n",
       "  <tbody>\n",
       "    <tr>\n",
       "      <th>count</th>\n",
       "      <td>49,175.00</td>\n",
       "      <td>49,175.00</td>\n",
       "      <td>49,175.00</td>\n",
       "      <td>49,175.00</td>\n",
       "    </tr>\n",
       "    <tr>\n",
       "      <th>mean</th>\n",
       "      <td>33,710,325.34</td>\n",
       "      <td>3,202,049.68</td>\n",
       "      <td>18,864,845.65</td>\n",
       "      <td>17,365,392.21</td>\n",
       "    </tr>\n",
       "    <tr>\n",
       "      <th>std</th>\n",
       "      <td>68,336,864.10</td>\n",
       "      <td>16,762,885.98</td>\n",
       "      <td>23,789,915.44</td>\n",
       "      <td>41,127,608.45</td>\n",
       "    </tr>\n",
       "    <tr>\n",
       "      <th>min</th>\n",
       "      <td>4,500,000.00</td>\n",
       "      <td>0.00</td>\n",
       "      <td>0.00</td>\n",
       "      <td>0.00</td>\n",
       "    </tr>\n",
       "    <tr>\n",
       "      <th>5%</th>\n",
       "      <td>4,910,000.00</td>\n",
       "      <td>0.00</td>\n",
       "      <td>0.00</td>\n",
       "      <td>0.00</td>\n",
       "    </tr>\n",
       "    <tr>\n",
       "      <th>10%</th>\n",
       "      <td>5,382,000.00</td>\n",
       "      <td>0.00</td>\n",
       "      <td>0.00</td>\n",
       "      <td>0.00</td>\n",
       "    </tr>\n",
       "    <tr>\n",
       "      <th>25%</th>\n",
       "      <td>7,863,500.00</td>\n",
       "      <td>0.00</td>\n",
       "      <td>6,233,333.33</td>\n",
       "      <td>0.00</td>\n",
       "    </tr>\n",
       "    <tr>\n",
       "      <th>50%</th>\n",
       "      <td>16,843,000.00</td>\n",
       "      <td>0.00</td>\n",
       "      <td>11,666,666.67</td>\n",
       "      <td>7,569,000.00</td>\n",
       "    </tr>\n",
       "    <tr>\n",
       "      <th>75%</th>\n",
       "      <td>39,381,500.00</td>\n",
       "      <td>0.00</td>\n",
       "      <td>24,000,000.00</td>\n",
       "      <td>19,692,500.00</td>\n",
       "    </tr>\n",
       "    <tr>\n",
       "      <th>90%</th>\n",
       "      <td>76,437,800.00</td>\n",
       "      <td>7,114,600.00</td>\n",
       "      <td>42,765,600.00</td>\n",
       "      <td>42,931,200.00</td>\n",
       "    </tr>\n",
       "    <tr>\n",
       "      <th>95%</th>\n",
       "      <td>109,482,600.00</td>\n",
       "      <td>16,198,100.00</td>\n",
       "      <td>57,600,000.00</td>\n",
       "      <td>66,386,800.00</td>\n",
       "    </tr>\n",
       "    <tr>\n",
       "      <th>max</th>\n",
       "      <td>6,082,201,976.00</td>\n",
       "      <td>1,608,429,952.00</td>\n",
       "      <td>835,961,274.91</td>\n",
       "      <td>3,776,354,064.00</td>\n",
       "    </tr>\n",
       "  </tbody>\n",
       "</table>\n",
       "</div>"
      ],
      "text/plain": [
       "          saldo_actual    saldo_vencido  Promedio de credito_maximo  \\\n",
       "count        49,175.00        49,175.00                   49,175.00   \n",
       "mean     33,710,325.34     3,202,049.68               18,864,845.65   \n",
       "std      68,336,864.10    16,762,885.98               23,789,915.44   \n",
       "min       4,500,000.00             0.00                        0.00   \n",
       "5%        4,910,000.00             0.00                        0.00   \n",
       "10%       5,382,000.00             0.00                        0.00   \n",
       "25%       7,863,500.00             0.00                6,233,333.33   \n",
       "50%      16,843,000.00             0.00               11,666,666.67   \n",
       "75%      39,381,500.00             0.00               24,000,000.00   \n",
       "90%      76,437,800.00     7,114,600.00               42,765,600.00   \n",
       "95%     109,482,600.00    16,198,100.00               57,600,000.00   \n",
       "max   6,082,201,976.00 1,608,429,952.00              835,961,274.91   \n",
       "\n",
       "       Consumo_saldo_actual  \n",
       "count             49,175.00  \n",
       "mean          17,365,392.21  \n",
       "std           41,127,608.45  \n",
       "min                    0.00  \n",
       "5%                     0.00  \n",
       "10%                    0.00  \n",
       "25%                    0.00  \n",
       "50%            7,569,000.00  \n",
       "75%           19,692,500.00  \n",
       "90%           42,931,200.00  \n",
       "95%           66,386,800.00  \n",
       "max        3,776,354,064.00  "
      ]
     },
     "execution_count": 21,
     "metadata": {},
     "output_type": "execute_result"
    }
   ],
   "source": [
    "outliers_columns = ['saldo_actual', 'saldo_vencido', 'Promedio de credito_maximo', 'Consumo_saldo_actual']\n",
    "\n",
    "final_df[outliers_columns].describe(percentiles=[0.05, 0.1, 0.25, 0.75, 0.9, 0.95])"
   ]
  },
  {
   "attachments": {},
   "cell_type": "markdown",
   "id": "9c897298",
   "metadata": {},
   "source": [
    "Según lo anterior, en el percentil **95%** se intuye que los datos tienen una varianza adecuada. Por tanto, definimos este percentil para decidir factores de contaminación en procesamiento de outliers."
   ]
  },
  {
   "attachments": {},
   "cell_type": "markdown",
   "id": "98561ca4",
   "metadata": {},
   "source": [
    "Vamos a ejecutar la técnica de **detección de anomalías Isolation Forest**, la cual, al igual que Local Outlier Factor es bastante robusta, pero tiene mucha mejor eficiencia, además, usa algoritmos de árboles aleatorios para encontrar valores muy a los extremos. El factor de contaminación será **auto**, ya que el mismo algoritmo decide los extremos."
   ]
  },
  {
   "cell_type": "code",
   "execution_count": 22,
   "id": "255b7ca6",
   "metadata": {},
   "outputs": [
    {
     "data": {
      "text/plain": [
       "0.00    43728\n",
       "1.00     4638\n",
       "Name: outlier, dtype: int64"
      ]
     },
     "execution_count": 22,
     "metadata": {},
     "output_type": "execute_result"
    }
   ],
   "source": [
    "clf = IsolationForest(random_state=0, contamination='auto')\n",
    "outliers_mark = clf.fit_predict(final_df)\n",
    "\n",
    "final_isolation_df = final_df.copy()\n",
    "final_isolation_df['outlier'] = pd.Series(outliers_mark).apply(lambda x: 1 if x == -1 else 0)\n",
    "final_isolation_df.outlier.value_counts()"
   ]
  },
  {
   "cell_type": "code",
   "execution_count": 23,
   "id": "8dcf27da",
   "metadata": {},
   "outputs": [
    {
     "data": {
      "text/html": [
       "<div>\n",
       "<style scoped>\n",
       "    .dataframe tbody tr th:only-of-type {\n",
       "        vertical-align: middle;\n",
       "    }\n",
       "\n",
       "    .dataframe tbody tr th {\n",
       "        vertical-align: top;\n",
       "    }\n",
       "\n",
       "    .dataframe thead th {\n",
       "        text-align: right;\n",
       "    }\n",
       "</style>\n",
       "<table border=\"1\" class=\"dataframe\">\n",
       "  <thead>\n",
       "    <tr style=\"text-align: right;\">\n",
       "      <th></th>\n",
       "      <th>saldo_actual</th>\n",
       "      <th>saldo_vencido</th>\n",
       "      <th>Promedio de credito_maximo</th>\n",
       "      <th>Consumo_saldo_actual</th>\n",
       "    </tr>\n",
       "  </thead>\n",
       "  <tbody>\n",
       "    <tr>\n",
       "      <th>count</th>\n",
       "      <td>43,728.00</td>\n",
       "      <td>43,728.00</td>\n",
       "      <td>43,728.00</td>\n",
       "      <td>43,728.00</td>\n",
       "    </tr>\n",
       "    <tr>\n",
       "      <th>mean</th>\n",
       "      <td>33,631,757.24</td>\n",
       "      <td>3,214,732.44</td>\n",
       "      <td>18,844,004.58</td>\n",
       "      <td>17,330,986.37</td>\n",
       "    </tr>\n",
       "    <tr>\n",
       "      <th>std</th>\n",
       "      <td>69,532,074.70</td>\n",
       "      <td>17,183,267.91</td>\n",
       "      <td>23,645,428.48</td>\n",
       "      <td>41,576,857.04</td>\n",
       "    </tr>\n",
       "    <tr>\n",
       "      <th>min</th>\n",
       "      <td>4,500,000.00</td>\n",
       "      <td>0.00</td>\n",
       "      <td>0.00</td>\n",
       "      <td>0.00</td>\n",
       "    </tr>\n",
       "    <tr>\n",
       "      <th>25%</th>\n",
       "      <td>7,851,750.00</td>\n",
       "      <td>0.00</td>\n",
       "      <td>6,226,000.00</td>\n",
       "      <td>0.00</td>\n",
       "    </tr>\n",
       "    <tr>\n",
       "      <th>50%</th>\n",
       "      <td>16,885,000.00</td>\n",
       "      <td>0.00</td>\n",
       "      <td>11,665,833.33</td>\n",
       "      <td>7,574,000.00</td>\n",
       "    </tr>\n",
       "    <tr>\n",
       "      <th>75%</th>\n",
       "      <td>39,460,500.00</td>\n",
       "      <td>0.00</td>\n",
       "      <td>24,000,000.00</td>\n",
       "      <td>19,738,500.00</td>\n",
       "    </tr>\n",
       "    <tr>\n",
       "      <th>max</th>\n",
       "      <td>6,082,201,976.00</td>\n",
       "      <td>1,608,429,952.00</td>\n",
       "      <td>835,961,274.91</td>\n",
       "      <td>3,776,354,064.00</td>\n",
       "    </tr>\n",
       "  </tbody>\n",
       "</table>\n",
       "</div>"
      ],
      "text/plain": [
       "          saldo_actual    saldo_vencido  Promedio de credito_maximo  \\\n",
       "count        43,728.00        43,728.00                   43,728.00   \n",
       "mean     33,631,757.24     3,214,732.44               18,844,004.58   \n",
       "std      69,532,074.70    17,183,267.91               23,645,428.48   \n",
       "min       4,500,000.00             0.00                        0.00   \n",
       "25%       7,851,750.00             0.00                6,226,000.00   \n",
       "50%      16,885,000.00             0.00               11,665,833.33   \n",
       "75%      39,460,500.00             0.00               24,000,000.00   \n",
       "max   6,082,201,976.00 1,608,429,952.00              835,961,274.91   \n",
       "\n",
       "       Consumo_saldo_actual  \n",
       "count             43,728.00  \n",
       "mean          17,330,986.37  \n",
       "std           41,576,857.04  \n",
       "min                    0.00  \n",
       "25%                    0.00  \n",
       "50%            7,574,000.00  \n",
       "75%           19,738,500.00  \n",
       "max        3,776,354,064.00  "
      ]
     },
     "execution_count": 23,
     "metadata": {},
     "output_type": "execute_result"
    }
   ],
   "source": [
    "final_isolation_df[final_isolation_df.outlier == 0][outliers_columns].describe()"
   ]
  },
  {
   "cell_type": "code",
   "execution_count": 24,
   "id": "6f49a8d8",
   "metadata": {},
   "outputs": [
    {
     "data": {
      "text/html": [
       "<div>\n",
       "<style scoped>\n",
       "    .dataframe tbody tr th:only-of-type {\n",
       "        vertical-align: middle;\n",
       "    }\n",
       "\n",
       "    .dataframe tbody tr th {\n",
       "        vertical-align: top;\n",
       "    }\n",
       "\n",
       "    .dataframe thead th {\n",
       "        text-align: right;\n",
       "    }\n",
       "</style>\n",
       "<table border=\"1\" class=\"dataframe\">\n",
       "  <thead>\n",
       "    <tr style=\"text-align: right;\">\n",
       "      <th></th>\n",
       "      <th>saldo_actual</th>\n",
       "      <th>saldo_vencido</th>\n",
       "      <th>Promedio de credito_maximo</th>\n",
       "      <th>Consumo_saldo_actual</th>\n",
       "    </tr>\n",
       "  </thead>\n",
       "  <tbody>\n",
       "    <tr>\n",
       "      <th>count</th>\n",
       "      <td>4,638.00</td>\n",
       "      <td>4,638.00</td>\n",
       "      <td>4,638.00</td>\n",
       "      <td>4,638.00</td>\n",
       "    </tr>\n",
       "    <tr>\n",
       "      <th>mean</th>\n",
       "      <td>34,057,426.47</td>\n",
       "      <td>3,152,114.06</td>\n",
       "      <td>18,785,934.05</td>\n",
       "      <td>17,447,110.82</td>\n",
       "    </tr>\n",
       "    <tr>\n",
       "      <th>std</th>\n",
       "      <td>57,872,756.22</td>\n",
       "      <td>13,166,235.58</td>\n",
       "      <td>23,215,544.97</td>\n",
       "      <td>36,841,684.06</td>\n",
       "    </tr>\n",
       "    <tr>\n",
       "      <th>min</th>\n",
       "      <td>4,500,000.00</td>\n",
       "      <td>0.00</td>\n",
       "      <td>0.00</td>\n",
       "      <td>0.00</td>\n",
       "    </tr>\n",
       "    <tr>\n",
       "      <th>25%</th>\n",
       "      <td>7,966,000.00</td>\n",
       "      <td>0.00</td>\n",
       "      <td>6,282,000.00</td>\n",
       "      <td>0.00</td>\n",
       "    </tr>\n",
       "    <tr>\n",
       "      <th>50%</th>\n",
       "      <td>16,457,500.00</td>\n",
       "      <td>0.00</td>\n",
       "      <td>11,620,625.00</td>\n",
       "      <td>7,470,000.00</td>\n",
       "    </tr>\n",
       "    <tr>\n",
       "      <th>75%</th>\n",
       "      <td>37,585,500.00</td>\n",
       "      <td>0.00</td>\n",
       "      <td>23,619,250.00</td>\n",
       "      <td>19,149,000.00</td>\n",
       "    </tr>\n",
       "    <tr>\n",
       "      <th>max</th>\n",
       "      <td>1,326,580,008.00</td>\n",
       "      <td>221,180,992.00</td>\n",
       "      <td>374,106,000.00</td>\n",
       "      <td>753,604,992.00</td>\n",
       "    </tr>\n",
       "  </tbody>\n",
       "</table>\n",
       "</div>"
      ],
      "text/plain": [
       "          saldo_actual  saldo_vencido  Promedio de credito_maximo  \\\n",
       "count         4,638.00       4,638.00                    4,638.00   \n",
       "mean     34,057,426.47   3,152,114.06               18,785,934.05   \n",
       "std      57,872,756.22  13,166,235.58               23,215,544.97   \n",
       "min       4,500,000.00           0.00                        0.00   \n",
       "25%       7,966,000.00           0.00                6,282,000.00   \n",
       "50%      16,457,500.00           0.00               11,620,625.00   \n",
       "75%      37,585,500.00           0.00               23,619,250.00   \n",
       "max   1,326,580,008.00 221,180,992.00              374,106,000.00   \n",
       "\n",
       "       Consumo_saldo_actual  \n",
       "count              4,638.00  \n",
       "mean          17,447,110.82  \n",
       "std           36,841,684.06  \n",
       "min                    0.00  \n",
       "25%                    0.00  \n",
       "50%            7,470,000.00  \n",
       "75%           19,149,000.00  \n",
       "max          753,604,992.00  "
      ]
     },
     "execution_count": 24,
     "metadata": {},
     "output_type": "execute_result"
    }
   ],
   "source": [
    "final_isolation_df[final_isolation_df.outlier == 1][outliers_columns].describe()"
   ]
  },
  {
   "cell_type": "code",
   "execution_count": 25,
   "id": "ee77c118",
   "metadata": {},
   "outputs": [
    {
     "data": {
      "text/plain": [
       "<AxesSubplot:xlabel='outlier', ylabel='Consumo_saldo_actual'>"
      ]
     },
     "execution_count": 25,
     "metadata": {},
     "output_type": "execute_result"
    },
    {
     "data": {
      "image/png": "[encoded data removed]",
      "text/plain": [
       "<Figure size 1080x720 with 4 Axes>"
      ]
     },
     "metadata": {
      "needs_background": "light"
     },
     "output_type": "display_data"
    }
   ],
   "source": [
    "temp_data = final_isolation_df[outliers_columns]\n",
    "\n",
    "f, ax = plt.subplots(figsize=(15, 10), ncols=2, nrows=2)\n",
    "sns.boxplot(x=final_isolation_df.outlier, y=temp_data['saldo_actual'], ax=ax[0][0])\n",
    "sns.boxplot(x=final_isolation_df.outlier, y=temp_data['saldo_vencido'], ax=ax[0][1])\n",
    "sns.boxplot(x=final_isolation_df.outlier, y=temp_data['Promedio de credito_maximo'], ax=ax[1][0])\n",
    "sns.boxplot(x=final_isolation_df.outlier, y=temp_data['Consumo_saldo_actual'], ax=ax[1][1])"
   ]
  },
  {
   "attachments": {},
   "cell_type": "markdown",
   "id": "296922c7",
   "metadata": {},
   "source": [
    "Dado que el resultado nos sigue dejando un conjunto de valores con mucha varianza em ambos conjuntos de datos, realizaremos una marcación manual considerando el percentil donde se comienzan a notar los valores más alejados para cada variable, en este caso, por encima del percentil **95%**."
   ]
  },
  {
   "cell_type": "code",
   "execution_count": 26,
   "id": "fba0b8e1",
   "metadata": {},
   "outputs": [
    {
     "data": {
      "text/plain": [
       "saldo_actual                 109,482,600.00\n",
       "saldo_vencido                 16,198,100.00\n",
       "Promedio de credito_maximo    57,600,000.00\n",
       "Consumo_saldo_actual          66,386,800.00\n",
       "Name: 95%, dtype: float64"
      ]
     },
     "execution_count": 26,
     "metadata": {},
     "output_type": "execute_result"
    }
   ],
   "source": [
    "outliers_desc = pd.DataFrame(final_df[outliers_columns].describe(percentiles=[0.05, 0.1, 0.25, 0.75, 0.9, 0.95]))\n",
    "outliers_desc = outliers_desc.loc['95%']\n",
    "outliers_desc"
   ]
  },
  {
   "cell_type": "code",
   "execution_count": 27,
   "id": "74ad13ea",
   "metadata": {},
   "outputs": [
    {
     "data": {
      "text/plain": [
       "((49175, 14), (49175, 15))"
      ]
     },
     "execution_count": 27,
     "metadata": {},
     "output_type": "execute_result"
    }
   ],
   "source": [
    "def get_outlier_flag(row):\n",
    "    for col in outliers_columns:\n",
    "        if row[col] >= outliers_desc[col]:\n",
    "            return 1\n",
    "    return 0\n",
    "\n",
    "final_outlier_df = final_df.copy()\n",
    "final_outlier_df['outlier'] = final_outlier_df.apply(get_outlier_flag, axis=1)\n",
    "\n",
    "final_df.shape, final_outlier_df.shape"
   ]
  },
  {
   "cell_type": "code",
   "execution_count": 28,
   "id": "dcc1652f",
   "metadata": {},
   "outputs": [
    {
     "data": {
      "text/html": [
       "<div>\n",
       "<style scoped>\n",
       "    .dataframe tbody tr th:only-of-type {\n",
       "        vertical-align: middle;\n",
       "    }\n",
       "\n",
       "    .dataframe tbody tr th {\n",
       "        vertical-align: top;\n",
       "    }\n",
       "\n",
       "    .dataframe thead th {\n",
       "        text-align: right;\n",
       "    }\n",
       "</style>\n",
       "<table border=\"1\" class=\"dataframe\">\n",
       "  <thead>\n",
       "    <tr style=\"text-align: right;\">\n",
       "      <th></th>\n",
       "      <th>saldo_actual</th>\n",
       "      <th>saldo_vencido</th>\n",
       "      <th>Promedio de credito_maximo</th>\n",
       "      <th>Consumo_saldo_actual</th>\n",
       "    </tr>\n",
       "  </thead>\n",
       "  <tbody>\n",
       "    <tr>\n",
       "      <th>count</th>\n",
       "      <td>42,340.00</td>\n",
       "      <td>42,340.00</td>\n",
       "      <td>42,340.00</td>\n",
       "      <td>42,340.00</td>\n",
       "    </tr>\n",
       "    <tr>\n",
       "      <th>mean</th>\n",
       "      <td>21,633,084.10</td>\n",
       "      <td>947,395.96</td>\n",
       "      <td>13,941,389.17</td>\n",
       "      <td>10,982,895.37</td>\n",
       "    </tr>\n",
       "    <tr>\n",
       "      <th>std</th>\n",
       "      <td>19,936,546.49</td>\n",
       "      <td>2,735,000.58</td>\n",
       "      <td>12,207,263.34</td>\n",
       "      <td>13,274,998.37</td>\n",
       "    </tr>\n",
       "    <tr>\n",
       "      <th>min</th>\n",
       "      <td>4,500,000.00</td>\n",
       "      <td>0.00</td>\n",
       "      <td>0.00</td>\n",
       "      <td>0.00</td>\n",
       "    </tr>\n",
       "    <tr>\n",
       "      <th>25%</th>\n",
       "      <td>7,130,000.00</td>\n",
       "      <td>0.00</td>\n",
       "      <td>5,860,000.00</td>\n",
       "      <td>0.00</td>\n",
       "    </tr>\n",
       "    <tr>\n",
       "      <th>50%</th>\n",
       "      <td>13,848,500.00</td>\n",
       "      <td>0.00</td>\n",
       "      <td>10,027,000.00</td>\n",
       "      <td>6,698,500.00</td>\n",
       "    </tr>\n",
       "    <tr>\n",
       "      <th>75%</th>\n",
       "      <td>29,278,000.00</td>\n",
       "      <td>0.00</td>\n",
       "      <td>19,556,250.00</td>\n",
       "      <td>15,337,500.00</td>\n",
       "    </tr>\n",
       "    <tr>\n",
       "      <th>max</th>\n",
       "      <td>109,482,000.00</td>\n",
       "      <td>16,196,000.00</td>\n",
       "      <td>57,599,000.00</td>\n",
       "      <td>66,385,000.00</td>\n",
       "    </tr>\n",
       "  </tbody>\n",
       "</table>\n",
       "</div>"
      ],
      "text/plain": [
       "        saldo_actual  saldo_vencido  Promedio de credito_maximo  \\\n",
       "count      42,340.00      42,340.00                   42,340.00   \n",
       "mean   21,633,084.10     947,395.96               13,941,389.17   \n",
       "std    19,936,546.49   2,735,000.58               12,207,263.34   \n",
       "min     4,500,000.00           0.00                        0.00   \n",
       "25%     7,130,000.00           0.00                5,860,000.00   \n",
       "50%    13,848,500.00           0.00               10,027,000.00   \n",
       "75%    29,278,000.00           0.00               19,556,250.00   \n",
       "max   109,482,000.00  16,196,000.00               57,599,000.00   \n",
       "\n",
       "       Consumo_saldo_actual  \n",
       "count             42,340.00  \n",
       "mean          10,982,895.37  \n",
       "std           13,274,998.37  \n",
       "min                    0.00  \n",
       "25%                    0.00  \n",
       "50%            6,698,500.00  \n",
       "75%           15,337,500.00  \n",
       "max           66,385,000.00  "
      ]
     },
     "execution_count": 28,
     "metadata": {},
     "output_type": "execute_result"
    }
   ],
   "source": [
    "# Inliers\n",
    "final_outlier_df[final_outlier_df.outlier == 0][outliers_columns].describe()"
   ]
  },
  {
   "cell_type": "code",
   "execution_count": 29,
   "id": "f16a3e3e",
   "metadata": {},
   "outputs": [
    {
     "data": {
      "text/html": [
       "<div>\n",
       "<style scoped>\n",
       "    .dataframe tbody tr th:only-of-type {\n",
       "        vertical-align: middle;\n",
       "    }\n",
       "\n",
       "    .dataframe tbody tr th {\n",
       "        vertical-align: top;\n",
       "    }\n",
       "\n",
       "    .dataframe thead th {\n",
       "        text-align: right;\n",
       "    }\n",
       "</style>\n",
       "<table border=\"1\" class=\"dataframe\">\n",
       "  <thead>\n",
       "    <tr style=\"text-align: right;\">\n",
       "      <th></th>\n",
       "      <th>saldo_actual</th>\n",
       "      <th>saldo_vencido</th>\n",
       "      <th>Promedio de credito_maximo</th>\n",
       "      <th>Consumo_saldo_actual</th>\n",
       "    </tr>\n",
       "  </thead>\n",
       "  <tbody>\n",
       "    <tr>\n",
       "      <th>count</th>\n",
       "      <td>6,835.00</td>\n",
       "      <td>6,835.00</td>\n",
       "      <td>6,835.00</td>\n",
       "      <td>6,835.00</td>\n",
       "    </tr>\n",
       "    <tr>\n",
       "      <th>mean</th>\n",
       "      <td>108,523,843.07</td>\n",
       "      <td>17,168,697.58</td>\n",
       "      <td>49,363,623.56</td>\n",
       "      <td>56,902,322.16</td>\n",
       "    </tr>\n",
       "    <tr>\n",
       "      <th>std</th>\n",
       "      <td>156,966,346.79</td>\n",
       "      <td>41,820,568.14</td>\n",
       "      <td>45,482,471.14</td>\n",
       "      <td>96,246,956.14</td>\n",
       "    </tr>\n",
       "    <tr>\n",
       "      <th>min</th>\n",
       "      <td>4,500,000.00</td>\n",
       "      <td>0.00</td>\n",
       "      <td>0.00</td>\n",
       "      <td>0.00</td>\n",
       "    </tr>\n",
       "    <tr>\n",
       "      <th>25%</th>\n",
       "      <td>45,849,000.00</td>\n",
       "      <td>0.00</td>\n",
       "      <td>20,000,000.00</td>\n",
       "      <td>7,272,000.00</td>\n",
       "    </tr>\n",
       "    <tr>\n",
       "      <th>50%</th>\n",
       "      <td>82,849,000.00</td>\n",
       "      <td>0.00</td>\n",
       "      <td>39,521,000.00</td>\n",
       "      <td>36,121,000.00</td>\n",
       "    </tr>\n",
       "    <tr>\n",
       "      <th>75%</th>\n",
       "      <td>131,461,500.00</td>\n",
       "      <td>23,296,500.00</td>\n",
       "      <td>66,000,000.00</td>\n",
       "      <td>80,710,000.00</td>\n",
       "    </tr>\n",
       "    <tr>\n",
       "      <th>max</th>\n",
       "      <td>6,082,201,976.00</td>\n",
       "      <td>1,608,429,952.00</td>\n",
       "      <td>835,961,274.91</td>\n",
       "      <td>3,776,354,064.00</td>\n",
       "    </tr>\n",
       "  </tbody>\n",
       "</table>\n",
       "</div>"
      ],
      "text/plain": [
       "          saldo_actual    saldo_vencido  Promedio de credito_maximo  \\\n",
       "count         6,835.00         6,835.00                    6,835.00   \n",
       "mean    108,523,843.07    17,168,697.58               49,363,623.56   \n",
       "std     156,966,346.79    41,820,568.14               45,482,471.14   \n",
       "min       4,500,000.00             0.00                        0.00   \n",
       "25%      45,849,000.00             0.00               20,000,000.00   \n",
       "50%      82,849,000.00             0.00               39,521,000.00   \n",
       "75%     131,461,500.00    23,296,500.00               66,000,000.00   \n",
       "max   6,082,201,976.00 1,608,429,952.00              835,961,274.91   \n",
       "\n",
       "       Consumo_saldo_actual  \n",
       "count              6,835.00  \n",
       "mean          56,902,322.16  \n",
       "std           96,246,956.14  \n",
       "min                    0.00  \n",
       "25%            7,272,000.00  \n",
       "50%           36,121,000.00  \n",
       "75%           80,710,000.00  \n",
       "max        3,776,354,064.00  "
      ]
     },
     "execution_count": 29,
     "metadata": {},
     "output_type": "execute_result"
    }
   ],
   "source": [
    "# Outliers\n",
    "final_outlier_df[final_outlier_df.outlier == 1][outliers_columns].describe()"
   ]
  },
  {
   "cell_type": "code",
   "execution_count": 30,
   "id": "4cd6f866",
   "metadata": {},
   "outputs": [
    {
     "data": {
      "text/plain": [
       "<AxesSubplot:xlabel='outlier', ylabel='Consumo_saldo_actual'>"
      ]
     },
     "execution_count": 30,
     "metadata": {},
     "output_type": "execute_result"
    },
    {
     "data": {
      "image/png": "[encoded data removed]",
      "text/plain": [
       "<Figure size 1080x720 with 4 Axes>"
      ]
     },
     "metadata": {
      "needs_background": "light"
     },
     "output_type": "display_data"
    }
   ],
   "source": [
    "temp_data = final_outlier_df[outliers_columns]\n",
    "\n",
    "f, ax = plt.subplots(figsize=(15, 10), ncols=2, nrows=2)\n",
    "sns.boxplot(x=final_outlier_df.outlier, y=temp_data['saldo_actual'], ax=ax[0][0])\n",
    "sns.boxplot(x=final_outlier_df.outlier, y=temp_data['saldo_vencido'], ax=ax[0][1])\n",
    "sns.boxplot(x=final_outlier_df.outlier, y=temp_data['Promedio de credito_maximo'], ax=ax[1][0])\n",
    "sns.boxplot(x=final_outlier_df.outlier, y=temp_data['Consumo_saldo_actual'], ax=ax[1][1])"
   ]
  },
  {
   "cell_type": "code",
   "execution_count": 31,
   "id": "adb9e53b",
   "metadata": {},
   "outputs": [
    {
     "data": {
      "text/plain": [
       "((49175, 14), (49175, 15))"
      ]
     },
     "execution_count": 31,
     "metadata": {},
     "output_type": "execute_result"
    }
   ],
   "source": [
    "final_df.shape, final_outlier_df.shape"
   ]
  },
  {
   "cell_type": "markdown",
   "id": "a7b7adef",
   "metadata": {},
   "source": [
    "## 5. Almacenamiento resultados de predicción"
   ]
  },
  {
   "cell_type": "code",
   "execution_count": 30,
   "id": "5caa6065",
   "metadata": {},
   "outputs": [],
   "source": [
    "# final_outlier_df.to_csv('data/result.csv', sep=\";\", encoding=\"utf-8\", index=False)"
   ]
  }
 ],
 "metadata": {
  "kernelspec": {
   "display_name": "base",
   "language": "python",
   "name": "python3"
  },
  "language_info": {
   "codemirror_mode": {
    "name": "ipython",
    "version": 3
   },
   "file_extension": ".py",
   "mimetype": "text/x-python",
   "name": "python",
   "nbconvert_exporter": "python",
   "pygments_lexer": "ipython3",
   "version": "3.8.8"
  },
  "vscode": {
   "interpreter": {
    "hash": "ad2bdc8ecc057115af97d19610ffacc2b4e99fae6737bb82f5d7fb13d2f2c186"
   }
  }
 },
 "nbformat": 4,
 "nbformat_minor": 5
}
