{
 "cells": [
  {
   "cell_type": "markdown",
   "id": "2cada600",
   "metadata": {},
   "source": [
    "Parte 2\n",
    "==="
   ]
  },
  {
   "cell_type": "code",
   "execution_count": 1,
   "id": "3ed00b0e",
   "metadata": {},
   "outputs": [],
   "source": [
    "import warnings as ws\n",
    "ws.filterwarnings(\"ignore\")\n",
    "\n",
    "import pickle\n",
    "import numpy as np\n",
    "import pandas as pd\n",
    "pd.set_option('float_format', '{:,.2f}'.format)\n",
    "\n",
    "import seaborn as sns\n",
    "import matplotlib.pyplot as plt\n",
    "\n",
    "sns.set(style=\"darkgrid\")\n",
    "%matplotlib inline\n",
    "\n",
    "from sklearn.ensemble import IsolationForest"
   ]
  },
  {
   "cell_type": "markdown",
   "id": "39f8457c",
   "metadata": {},
   "source": [
    "## Procedimientos de limpieza y estandarización"
   ]
  },
  {
   "cell_type": "code",
   "execution_count": 2,
   "id": "ce1924e6",
   "metadata": {},
   "outputs": [],
   "source": [
    "# Procedimientos de limpieza, estandarización y construcción de características\n",
    "\n",
    "def build_age_ranges(value, ranges):\n",
    "    range_ = None\n",
    "    for r in ranges:\n",
    "        if value in r:\n",
    "            range_ = r\n",
    "            break\n",
    "    return range_\n",
    "\n",
    "def build_user_profile(value):\n",
    "    if value == 1:\n",
    "        return 'Usuario en quiebra'\n",
    "    elif value == 7:\n",
    "        return 'Joven'\n",
    "    elif value >= 150 and value < 400:\n",
    "        return 'Bajo'\n",
    "    elif value >= 400 and value < 700:\n",
    "        return 'Medio'\n",
    "    elif value >= 700:\n",
    "        return 'Alto'\n",
    "    else:\n",
    "        return 'Sin registro'\n",
    "        \n",
    "def clean_build_data(data_df):\n",
    "    # Eliminamos las características que no serán requeridas\n",
    "    no_missing_columns = None\n",
    "    with open('output/columns_no_missing.pkl', 'rb') as f:\n",
    "        no_missing_columns = pickle.load(f)\n",
    "    data_df = data_df[no_missing_columns]\n",
    "\n",
    "    # Reemplazamos valores negativos en características numéricas por NULO\n",
    "    # y luego los valores nulos por cero (0)\n",
    "    types_temp = data_df.dtypes.astype(str)\n",
    "    columns_temp = types_temp[types_temp.isin(['int64', 'float64'])].index.tolist()\n",
    "    columns_temp_zeros = [i for i in columns_temp if i not in ['edad', 'Promedio de cantidad_cuotas']]\n",
    "    for column in columns_temp:\n",
    "        data_df[column] = data_df[column].apply(lambda x: np.nan if x < 0 else x)\n",
    "    for column in columns_temp_zeros:\n",
    "        data_df[column] = data_df[column].fillna(0)\n",
    "        \n",
    "    # Reemplazamos nulos en genero por OTRO\n",
    "    data_df['genero'] = data_df['genero'].fillna('OTRO')\n",
    "    \n",
    "    # Imputamos edad con su media\n",
    "    age_imputer = 31\n",
    "    data_df['edad'] = data_df['edad'].fillna(age_imputer)\n",
    "    \n",
    "    # Imputamos Promedio de cantidad_cuotas con su mediana\n",
    "    amount_fees_imputer = 3.2\n",
    "    data_df['Promedio de cantidad_cuotas'] = data_df['Promedio de cantidad_cuotas'].fillna(amount_fees_imputer)\n",
    "\n",
    "    # Creamos variable rango de edad\n",
    "    age_ranges = None\n",
    "    with open('output/age_ranges.pkl', 'rb') as f:\n",
    "        age_ranges = pickle.load(f)\n",
    "    \n",
    "    data_df['rango_edad'] = data_df['edad'].apply(\n",
    "        lambda x: build_age_ranges(x, age_ranges)\n",
    "    ).astype(str)\n",
    "    data_df = data_df.drop(columns=['edad'])\n",
    "    \n",
    "    # Estandarizamos variable Genero\n",
    "    genero_map = {\n",
    "        'MASCULINO': 'MASCULINO',\n",
    "        'FEMENINO': 'FEMENINO',\n",
    "        'OTRO': 'OTRO',\n",
    "        'DESCONOCIDO': 'OTRO',\n",
    "        'OMITIDO': 'OTRO',\n",
    "    }\n",
    "    data_df['genero'] = data_df['genero'].map(genero_map)\n",
    "    \n",
    "    # Estandarizamos variable Antiguedad\n",
    "    antiquity_map = {\n",
    "        'Menos de 6 meses': 'Menos de 6 meses',\n",
    "        'de 6 meses a 1 año': '6 meses o mas',\n",
    "        'mas de 1 año': '6 meses o mas',\n",
    "    }\n",
    "    data_df['Antiguedad'] = data_df['Antiguedad'].map(antiquity_map)\n",
    "    \n",
    "    # Estandarizamos variable mop historico\n",
    "    mop_map = {\n",
    "        'N': 'Al día',\n",
    "        '1': 'Mora 30 a 120 días',\n",
    "        '2': 'Mora 30 a 120 días',\n",
    "        '3': 'Mora 30 a 120 días',\n",
    "        '4': 'Mora 30 a 120 días',\n",
    "        '5': 'Mora > 120 días',\n",
    "        '6': 'Mora > 120 días',\n",
    "    }\n",
    "    data_df['mop_historico'] = data_df['mop_historico'].map(mop_map)\n",
    "    data_df['mop_historico'] = data_df['mop_historico'].fillna('Sin registro')\n",
    "\n",
    "    # Construimos variable perfil de usuario\n",
    "    data_df['perfil_usuario'] = data_df['score'].apply(build_user_profile)\n",
    "    data_df = data_df.drop(columns=['score'])\n",
    "    \n",
    "    # Convertimos Garantia en categorica\n",
    "    garantia_map = {\n",
    "        0.0: 'Sin garantia',\n",
    "        1.0: 'Tipo garantia 1',\n",
    "        2.0: 'Tipo garantia 2',\n",
    "    }\n",
    "    data_df['Garantia'] = data_df['Garantia'].map(garantia_map)\n",
    "    data_df['Garantia'] = data_df['Garantia'].fillna('Sin garantia')\n",
    "    \n",
    "    return data_df"
   ]
  },
  {
   "cell_type": "code",
   "execution_count": 3,
   "id": "d590a478",
   "metadata": {},
   "outputs": [],
   "source": [
    "# Procedimiento de homologación tipos de dato y conversión de categoricas\n",
    "\n",
    "target_column = ['Y']\n",
    "\n",
    "def standardize_data_types(data_df):\n",
    "    types_temp = data_df.dtypes.astype(str)\n",
    "    categorical_columns = types_temp[types_temp.isin(['object'])].index.tolist()\n",
    "    numerical_columns = types_temp[types_temp.isin(['int64', 'float64'])].index.tolist()\n",
    "    numeric_int_columns = ['Creditos', 'Promedio de cantidad_cuotas', 'ahorro_impacto', 'bienestar_financiero_impacto', 'coaching_impacto',\n",
    "                       'Tiene_ahorro', 'Comunicaciones_pagos_vencidos', 'consumo_pagos_vencidos']\n",
    "\n",
    "    for i, column in enumerate(numeric_int_columns):\n",
    "        data_df[column] = data_df[column].astype('int64')\n",
    "    \n",
    "    return data_df, categorical_columns, numerical_columns\n",
    "\n",
    "def get_dummies_fields(data_df, categorical_columns):\n",
    "    return pd.get_dummies(data_df, columns=categorical_columns)"
   ]
  },
  {
   "cell_type": "markdown",
   "id": "8c1add0a",
   "metadata": {},
   "source": [
    "## 1. Carga de la base de datos"
   ]
  },
  {
   "cell_type": "code",
   "execution_count": 4,
   "id": "42324bd3",
   "metadata": {},
   "outputs": [
    {
     "data": {
      "text/plain": [
       "(50000, 80)"
      ]
     },
     "execution_count": 4,
     "metadata": {},
     "output_type": "execute_result"
    }
   ],
   "source": [
    "df = pd.read_csv('data/Perfilador_Reparadora.csv', encoding='utf-8', index_col=0).reset_index(drop=True)\n",
    "\n",
    "df.shape"
   ]
  },
  {
   "attachments": {},
   "cell_type": "markdown",
   "id": "4b44e9b6",
   "metadata": {},
   "source": [
    "### Aplicamos la regla de negocio saldo actual > 4.500.000"
   ]
  },
  {
   "cell_type": "code",
   "execution_count": 5,
   "id": "c1edc51e",
   "metadata": {},
   "outputs": [
    {
     "data": {
      "text/plain": [
       "count          50,000.00\n",
       "mean       33,561,800.17\n",
       "std        67,898,139.51\n",
       "min         4,500,000.00\n",
       "25%         7,815,000.00\n",
       "50%        16,778,000.00\n",
       "75%        39,212,250.00\n",
       "max     6,082,201,976.00\n",
       "Name: saldo_actual, dtype: float64"
      ]
     },
     "execution_count": 5,
     "metadata": {},
     "output_type": "execute_result"
    }
   ],
   "source": [
    "df.saldo_actual.describe()"
   ]
  },
  {
   "cell_type": "code",
   "execution_count": 6,
   "id": "17822c83",
   "metadata": {},
   "outputs": [
    {
     "data": {
      "text/plain": [
       "count          50,000.00\n",
       "mean       33,561,800.17\n",
       "std        67,898,139.51\n",
       "min         4,500,000.00\n",
       "25%         7,815,000.00\n",
       "50%        16,778,000.00\n",
       "75%        39,212,250.00\n",
       "max     6,082,201,976.00\n",
       "Name: saldo_actual, dtype: float64"
      ]
     },
     "execution_count": 6,
     "metadata": {},
     "output_type": "execute_result"
    }
   ],
   "source": [
    "df = df[df.saldo_actual >= 4500000]\n",
    "\n",
    "df.saldo_actual.describe()"
   ]
  },
  {
   "cell_type": "markdown",
   "id": "d5945e4d",
   "metadata": {},
   "source": [
    "## 2. Aplicación procedimientos sobre variables"
   ]
  },
  {
   "cell_type": "code",
   "execution_count": 7,
   "id": "c9a6abff",
   "metadata": {},
   "outputs": [
    {
     "data": {
      "text/plain": [
       "(50000, 80)"
      ]
     },
     "execution_count": 7,
     "metadata": {},
     "output_type": "execute_result"
    }
   ],
   "source": [
    "result_df = df.copy()\n",
    "result_df.shape"
   ]
  },
  {
   "cell_type": "code",
   "execution_count": 8,
   "id": "7d3c709e",
   "metadata": {},
   "outputs": [
    {
     "data": {
      "text/plain": [
       "(50000, 25)"
      ]
     },
     "execution_count": 8,
     "metadata": {},
     "output_type": "execute_result"
    }
   ],
   "source": [
    "# Limpieza de los datos\n",
    "\n",
    "result_df = clean_build_data(result_df)\n",
    "result_df = result_df.dropna(how='all', axis=0)\n",
    "result_df = result_df.fillna(0, axis=0)\n",
    "result_df.shape"
   ]
  },
  {
   "cell_type": "code",
   "execution_count": 9,
   "id": "1370b6a8",
   "metadata": {},
   "outputs": [
    {
     "data": {
      "text/plain": [
       "(50000, 41)"
      ]
     },
     "execution_count": 9,
     "metadata": {},
     "output_type": "execute_result"
    }
   ],
   "source": [
    "# Estandarización y homologación\n",
    "\n",
    "result_df, categorical_columns, numerical_columns = standardize_data_types(result_df)\n",
    "result_df = get_dummies_fields(result_df, categorical_columns)\n",
    "\n",
    "result_df.shape"
   ]
  },
  {
   "cell_type": "code",
   "execution_count": 10,
   "id": "a1b5b08e",
   "metadata": {},
   "outputs": [
    {
     "data": {
      "text/plain": [
       "(12,)"
      ]
     },
     "execution_count": 10,
     "metadata": {},
     "output_type": "execute_result"
    }
   ],
   "source": [
    "# Cargamos el objeto con las columnas relevantes para entrenamiento\n",
    "\n",
    "model_columns = None\n",
    "\n",
    "with open('output/columns.pkl', 'rb') as f:\n",
    "    model_columns = pickle.load(f)\n",
    "    \n",
    "model_columns.shape"
   ]
  },
  {
   "cell_type": "code",
   "execution_count": 11,
   "id": "9c0a840e",
   "metadata": {},
   "outputs": [
    {
     "data": {
      "text/plain": [
       "(50000, 41)"
      ]
     },
     "execution_count": 11,
     "metadata": {},
     "output_type": "execute_result"
    }
   ],
   "source": [
    "# Ajustamos el conjunto de datos nuevo a las columnas faltantes del conjunto con que se entreno\n",
    "# Se imputan los valores con cero\n",
    "\n",
    "for col in [i for i in model_columns if i not in result_df.columns]:\n",
    "    result_df[col] = 0\n",
    "\n",
    "result_df.shape"
   ]
  },
  {
   "cell_type": "code",
   "execution_count": 12,
   "id": "07e86dd5",
   "metadata": {},
   "outputs": [
    {
     "name": "stdout",
     "output_type": "stream",
     "text": [
      "<class 'pandas.core.frame.DataFrame'>\n",
      "RangeIndex: 50000 entries, 0 to 49999\n",
      "Data columns (total 12 columns):\n",
      " #   Column                       Non-Null Count  Dtype  \n",
      "---  ------                       --------------  -----  \n",
      " 0   Creditos                     50000 non-null  int64  \n",
      " 1   saldo_actual                 50000 non-null  int64  \n",
      " 2   saldo_vencido                50000 non-null  float64\n",
      " 3   Promedio de limite_credito   50000 non-null  float64\n",
      " 4   Promedio de credito_maximo   50000 non-null  float64\n",
      " 5   Promedio de cantidad_cuotas  50000 non-null  int64  \n",
      " 6   Promedio de valor_cuota      50000 non-null  float64\n",
      " 7   Comunicaciones_saldo_actual  50000 non-null  float64\n",
      " 8   %_comunicaciones             50000 non-null  float64\n",
      " 9   Consumo_saldo_actual         50000 non-null  float64\n",
      " 10  %_consumo                    50000 non-null  float64\n",
      " 11  perfil_usuario_Sin registro  50000 non-null  uint8  \n",
      "dtypes: float64(8), int64(3), uint8(1)\n",
      "memory usage: 4.2 MB\n"
     ]
    }
   ],
   "source": [
    "X = result_df[model_columns].reset_index(drop=True)\n",
    "X.info()"
   ]
  },
  {
   "cell_type": "markdown",
   "id": "970adbec",
   "metadata": {},
   "source": [
    "## 3. Aplicación modelo en nuevas observaciones"
   ]
  },
  {
   "cell_type": "code",
   "execution_count": 13,
   "id": "886e8641",
   "metadata": {},
   "outputs": [
    {
     "data": {
      "text/html": [
       "<style>#sk-container-id-1 {color: black;background-color: white;}#sk-container-id-1 pre{padding: 0;}#sk-container-id-1 div.sk-toggleable {background-color: white;}#sk-container-id-1 label.sk-toggleable__label {cursor: pointer;display: block;width: 100%;margin-bottom: 0;padding: 0.3em;box-sizing: border-box;text-align: center;}#sk-container-id-1 label.sk-toggleable__label-arrow:before {content: \"▸\";float: left;margin-right: 0.25em;color: #696969;}#sk-container-id-1 label.sk-toggleable__label-arrow:hover:before {color: black;}#sk-container-id-1 div.sk-estimator:hover label.sk-toggleable__label-arrow:before {color: black;}#sk-container-id-1 div.sk-toggleable__content {max-height: 0;max-width: 0;overflow: hidden;text-align: left;background-color: #f0f8ff;}#sk-container-id-1 div.sk-toggleable__content pre {margin: 0.2em;color: black;border-radius: 0.25em;background-color: #f0f8ff;}#sk-container-id-1 input.sk-toggleable__control:checked~div.sk-toggleable__content {max-height: 200px;max-width: 100%;overflow: auto;}#sk-container-id-1 input.sk-toggleable__control:checked~label.sk-toggleable__label-arrow:before {content: \"▾\";}#sk-container-id-1 div.sk-estimator input.sk-toggleable__control:checked~label.sk-toggleable__label {background-color: #d4ebff;}#sk-container-id-1 div.sk-label input.sk-toggleable__control:checked~label.sk-toggleable__label {background-color: #d4ebff;}#sk-container-id-1 input.sk-hidden--visually {border: 0;clip: rect(1px 1px 1px 1px);clip: rect(1px, 1px, 1px, 1px);height: 1px;margin: -1px;overflow: hidden;padding: 0;position: absolute;width: 1px;}#sk-container-id-1 div.sk-estimator {font-family: monospace;background-color: #f0f8ff;border: 1px dotted black;border-radius: 0.25em;box-sizing: border-box;margin-bottom: 0.5em;}#sk-container-id-1 div.sk-estimator:hover {background-color: #d4ebff;}#sk-container-id-1 div.sk-parallel-item::after {content: \"\";width: 100%;border-bottom: 1px solid gray;flex-grow: 1;}#sk-container-id-1 div.sk-label:hover label.sk-toggleable__label {background-color: #d4ebff;}#sk-container-id-1 div.sk-serial::before {content: \"\";position: absolute;border-left: 1px solid gray;box-sizing: border-box;top: 0;bottom: 0;left: 50%;z-index: 0;}#sk-container-id-1 div.sk-serial {display: flex;flex-direction: column;align-items: center;background-color: white;padding-right: 0.2em;padding-left: 0.2em;position: relative;}#sk-container-id-1 div.sk-item {position: relative;z-index: 1;}#sk-container-id-1 div.sk-parallel {display: flex;align-items: stretch;justify-content: center;background-color: white;position: relative;}#sk-container-id-1 div.sk-item::before, #sk-container-id-1 div.sk-parallel-item::before {content: \"\";position: absolute;border-left: 1px solid gray;box-sizing: border-box;top: 0;bottom: 0;left: 50%;z-index: -1;}#sk-container-id-1 div.sk-parallel-item {display: flex;flex-direction: column;z-index: 1;position: relative;background-color: white;}#sk-container-id-1 div.sk-parallel-item:first-child::after {align-self: flex-end;width: 50%;}#sk-container-id-1 div.sk-parallel-item:last-child::after {align-self: flex-start;width: 50%;}#sk-container-id-1 div.sk-parallel-item:only-child::after {width: 0;}#sk-container-id-1 div.sk-dashed-wrapped {border: 1px dashed gray;margin: 0 0.4em 0.5em 0.4em;box-sizing: border-box;padding-bottom: 0.4em;background-color: white;}#sk-container-id-1 div.sk-label label {font-family: monospace;font-weight: bold;display: inline-block;line-height: 1.2em;}#sk-container-id-1 div.sk-label-container {text-align: center;}#sk-container-id-1 div.sk-container {/* jupyter's `normalize.less` sets `[hidden] { display: none; }` but bootstrap.min.css set `[hidden] { display: none !important; }` so we also need the `!important` here to be able to override the default hidden behavior on the sphinx rendered scikit-learn.org. See: https://github.com/scikit-learn/scikit-learn/issues/21755 */display: inline-block !important;position: relative;}#sk-container-id-1 div.sk-text-repr-fallback {display: none;}</style><div id=\"sk-container-id-1\" class=\"sk-top-container\"><div class=\"sk-text-repr-fallback\"><pre>BalancedBaggingClassifier(base_estimator=RandomForestClassifier(random_state=0),\n",
       "                          random_state=0)</pre><b>In a Jupyter environment, please rerun this cell to show the HTML representation or trust the notebook. <br />On GitHub, the HTML representation is unable to render, please try loading this page with nbviewer.org.</b></div><div class=\"sk-container\" hidden><div class=\"sk-item sk-dashed-wrapped\"><div class=\"sk-label-container\"><div class=\"sk-label sk-toggleable\"><input class=\"sk-toggleable__control sk-hidden--visually\" id=\"sk-estimator-id-1\" type=\"checkbox\" ><label for=\"sk-estimator-id-1\" class=\"sk-toggleable__label sk-toggleable__label-arrow\">BalancedBaggingClassifier</label><div class=\"sk-toggleable__content\"><pre>BalancedBaggingClassifier(base_estimator=RandomForestClassifier(random_state=0),\n",
       "                          random_state=0)</pre></div></div></div><div class=\"sk-parallel\"><div class=\"sk-parallel-item\"><div class=\"sk-item\"><div class=\"sk-label-container\"><div class=\"sk-label sk-toggleable\"><input class=\"sk-toggleable__control sk-hidden--visually\" id=\"sk-estimator-id-2\" type=\"checkbox\" ><label for=\"sk-estimator-id-2\" class=\"sk-toggleable__label sk-toggleable__label-arrow\">base_estimator: RandomForestClassifier</label><div class=\"sk-toggleable__content\"><pre>RandomForestClassifier(random_state=0)</pre></div></div></div><div class=\"sk-serial\"><div class=\"sk-item\"><div class=\"sk-estimator sk-toggleable\"><input class=\"sk-toggleable__control sk-hidden--visually\" id=\"sk-estimator-id-3\" type=\"checkbox\" ><label for=\"sk-estimator-id-3\" class=\"sk-toggleable__label sk-toggleable__label-arrow\">RandomForestClassifier</label><div class=\"sk-toggleable__content\"><pre>RandomForestClassifier(random_state=0)</pre></div></div></div></div></div></div></div></div></div></div>"
      ],
      "text/plain": [
       "BalancedBaggingClassifier(base_estimator=RandomForestClassifier(random_state=0),\n",
       "                          random_state=0)"
      ]
     },
     "execution_count": 13,
     "metadata": {},
     "output_type": "execute_result"
    }
   ],
   "source": [
    "with open('output/model.pkl', 'rb') as f:\n",
    "    model = pickle.load(f)\n",
    "    \n",
    "model"
   ]
  },
  {
   "cell_type": "code",
   "execution_count": 14,
   "id": "0da82506",
   "metadata": {},
   "outputs": [
    {
     "data": {
      "text/plain": [
       "1    39985\n",
       "0    10015\n",
       "dtype: int64"
      ]
     },
     "execution_count": 14,
     "metadata": {},
     "output_type": "execute_result"
    }
   ],
   "source": [
    "pred_y = model.predict(X)\n",
    "\n",
    "pd.Series(pred_y).value_counts()"
   ]
  },
  {
   "cell_type": "code",
   "execution_count": 15,
   "id": "e54305cf",
   "metadata": {},
   "outputs": [
    {
     "data": {
      "text/plain": [
       "<AxesSubplot:ylabel='count'>"
      ]
     },
     "execution_count": 15,
     "metadata": {},
     "output_type": "execute_result"
    },
    {
     "data": {
      "image/png": "[encoded data removed]",
      "text/plain": [
       "<Figure size 864x576 with 1 Axes>"
      ]
     },
     "metadata": {
      "needs_background": "light"
     },
     "output_type": "display_data"
    }
   ],
   "source": [
    "f, ax = plt.subplots(figsize=(12, 8))\n",
    "sns.countplot(x=pred_y, ax=ax)"
   ]
  },
  {
   "attachments": {},
   "cell_type": "markdown",
   "id": "7f9f18f2",
   "metadata": {},
   "source": [
    "## 4. Construcción variable de particionamiento\n",
    "Vamos a tomar todos los usuarios marcados como **Rechazados** y los vamos a eliminar, asumiendo que el modelo tiene una calidad bastante aceptable para descartar."
   ]
  },
  {
   "cell_type": "code",
   "execution_count": 16,
   "id": "c76063d1",
   "metadata": {},
   "outputs": [
    {
     "data": {
      "text/plain": [
       "(39985, 12)"
      ]
     },
     "execution_count": 16,
     "metadata": {},
     "output_type": "execute_result"
    }
   ],
   "source": [
    "final_df = X.copy()\n",
    "final_df['Y'] = pred_y\n",
    "final_df = final_df[final_df.Y == 1]\n",
    "final_df = final_df.drop(columns='Y')\n",
    "\n",
    "final_df.to_csv('data/result.csv', sep=\";\", encoding=\"utf-8\", index=False)\n",
    "\n",
    "final_df.shape"
   ]
  },
  {
   "cell_type": "code",
   "execution_count": 17,
   "id": "af5327ef",
   "metadata": {},
   "outputs": [
    {
     "data": {
      "text/plain": [
       "Index(['Creditos', 'saldo_actual', 'saldo_vencido',\n",
       "       'Promedio de limite_credito', 'Promedio de credito_maximo',\n",
       "       'Promedio de cantidad_cuotas', 'Promedio de valor_cuota',\n",
       "       'Comunicaciones_saldo_actual', '%_comunicaciones',\n",
       "       'Consumo_saldo_actual', '%_consumo', 'perfil_usuario_Sin registro'],\n",
       "      dtype='object')"
      ]
     },
     "execution_count": 17,
     "metadata": {},
     "output_type": "execute_result"
    }
   ],
   "source": [
    "final_df.columns"
   ]
  },
  {
   "cell_type": "code",
   "execution_count": 18,
   "id": "deb87c3f",
   "metadata": {},
   "outputs": [
    {
     "data": {
      "text/html": [
       "<div>\n",
       "<style scoped>\n",
       "    .dataframe tbody tr th:only-of-type {\n",
       "        vertical-align: middle;\n",
       "    }\n",
       "\n",
       "    .dataframe tbody tr th {\n",
       "        vertical-align: top;\n",
       "    }\n",
       "\n",
       "    .dataframe thead th {\n",
       "        text-align: right;\n",
       "    }\n",
       "</style>\n",
       "<table border=\"1\" class=\"dataframe\">\n",
       "  <thead>\n",
       "    <tr style=\"text-align: right;\">\n",
       "      <th></th>\n",
       "      <th>count</th>\n",
       "      <th>mean</th>\n",
       "      <th>std</th>\n",
       "      <th>min</th>\n",
       "      <th>25%</th>\n",
       "      <th>50%</th>\n",
       "      <th>75%</th>\n",
       "      <th>max</th>\n",
       "    </tr>\n",
       "  </thead>\n",
       "  <tbody>\n",
       "    <tr>\n",
       "      <th>Creditos</th>\n",
       "      <td>39,985.00</td>\n",
       "      <td>1.76</td>\n",
       "      <td>1.28</td>\n",
       "      <td>1.00</td>\n",
       "      <td>1.00</td>\n",
       "      <td>1.00</td>\n",
       "      <td>2.00</td>\n",
       "      <td>26.00</td>\n",
       "    </tr>\n",
       "    <tr>\n",
       "      <th>saldo_actual</th>\n",
       "      <td>39,985.00</td>\n",
       "      <td>34,570,607.56</td>\n",
       "      <td>74,068,491.07</td>\n",
       "      <td>4,500,000.00</td>\n",
       "      <td>7,749,000.00</td>\n",
       "      <td>16,436,000.00</td>\n",
       "      <td>38,852,000.00</td>\n",
       "      <td>6,082,201,976.00</td>\n",
       "    </tr>\n",
       "    <tr>\n",
       "      <th>saldo_vencido</th>\n",
       "      <td>39,985.00</td>\n",
       "      <td>3,878,851.64</td>\n",
       "      <td>18,333,550.42</td>\n",
       "      <td>0.00</td>\n",
       "      <td>0.00</td>\n",
       "      <td>0.00</td>\n",
       "      <td>96,000.00</td>\n",
       "      <td>1,608,429,952.00</td>\n",
       "    </tr>\n",
       "    <tr>\n",
       "      <th>Promedio de limite_credito</th>\n",
       "      <td>39,985.00</td>\n",
       "      <td>1,268,096.11</td>\n",
       "      <td>3,877,582.26</td>\n",
       "      <td>0.00</td>\n",
       "      <td>0.00</td>\n",
       "      <td>0.00</td>\n",
       "      <td>0.00</td>\n",
       "      <td>101,900,000.00</td>\n",
       "    </tr>\n",
       "    <tr>\n",
       "      <th>Promedio de credito_maximo</th>\n",
       "      <td>39,985.00</td>\n",
       "      <td>16,868,726.57</td>\n",
       "      <td>21,271,197.05</td>\n",
       "      <td>0.00</td>\n",
       "      <td>6,000,000.00</td>\n",
       "      <td>10,878,000.00</td>\n",
       "      <td>21,100,000.00</td>\n",
       "      <td>835,961,274.91</td>\n",
       "    </tr>\n",
       "    <tr>\n",
       "      <th>Promedio de cantidad_cuotas</th>\n",
       "      <td>39,985.00</td>\n",
       "      <td>55.65</td>\n",
       "      <td>43.31</td>\n",
       "      <td>0.00</td>\n",
       "      <td>25.00</td>\n",
       "      <td>57.00</td>\n",
       "      <td>72.00</td>\n",
       "      <td>592.00</td>\n",
       "    </tr>\n",
       "    <tr>\n",
       "      <th>Promedio de valor_cuota</th>\n",
       "      <td>39,985.00</td>\n",
       "      <td>1,822,626.15</td>\n",
       "      <td>6,433,925.02</td>\n",
       "      <td>0.00</td>\n",
       "      <td>248,000.00</td>\n",
       "      <td>406,333.33</td>\n",
       "      <td>800,000.00</td>\n",
       "      <td>339,129,984.00</td>\n",
       "    </tr>\n",
       "    <tr>\n",
       "      <th>Comunicaciones_saldo_actual</th>\n",
       "      <td>39,985.00</td>\n",
       "      <td>163.76</td>\n",
       "      <td>32,746.14</td>\n",
       "      <td>0.00</td>\n",
       "      <td>0.00</td>\n",
       "      <td>0.00</td>\n",
       "      <td>0.00</td>\n",
       "      <td>6,548,000.00</td>\n",
       "    </tr>\n",
       "    <tr>\n",
       "      <th>%_comunicaciones</th>\n",
       "      <td>39,985.00</td>\n",
       "      <td>0.00</td>\n",
       "      <td>0.00</td>\n",
       "      <td>0.00</td>\n",
       "      <td>0.00</td>\n",
       "      <td>0.00</td>\n",
       "      <td>0.00</td>\n",
       "      <td>0.17</td>\n",
       "    </tr>\n",
       "    <tr>\n",
       "      <th>Consumo_saldo_actual</th>\n",
       "      <td>39,985.00</td>\n",
       "      <td>21,356,587.77</td>\n",
       "      <td>44,665,566.23</td>\n",
       "      <td>0.00</td>\n",
       "      <td>5,363,000.00</td>\n",
       "      <td>10,389,000.00</td>\n",
       "      <td>24,377,000.00</td>\n",
       "      <td>3,776,354,064.00</td>\n",
       "    </tr>\n",
       "    <tr>\n",
       "      <th>%_consumo</th>\n",
       "      <td>39,985.00</td>\n",
       "      <td>0.72</td>\n",
       "      <td>0.39</td>\n",
       "      <td>0.00</td>\n",
       "      <td>0.42</td>\n",
       "      <td>1.00</td>\n",
       "      <td>1.00</td>\n",
       "      <td>1.00</td>\n",
       "    </tr>\n",
       "    <tr>\n",
       "      <th>perfil_usuario_Sin registro</th>\n",
       "      <td>39,985.00</td>\n",
       "      <td>0.34</td>\n",
       "      <td>0.47</td>\n",
       "      <td>0.00</td>\n",
       "      <td>0.00</td>\n",
       "      <td>0.00</td>\n",
       "      <td>1.00</td>\n",
       "      <td>1.00</td>\n",
       "    </tr>\n",
       "  </tbody>\n",
       "</table>\n",
       "</div>"
      ],
      "text/plain": [
       "                                count          mean           std  \\\n",
       "Creditos                    39,985.00          1.76          1.28   \n",
       "saldo_actual                39,985.00 34,570,607.56 74,068,491.07   \n",
       "saldo_vencido               39,985.00  3,878,851.64 18,333,550.42   \n",
       "Promedio de limite_credito  39,985.00  1,268,096.11  3,877,582.26   \n",
       "Promedio de credito_maximo  39,985.00 16,868,726.57 21,271,197.05   \n",
       "Promedio de cantidad_cuotas 39,985.00         55.65         43.31   \n",
       "Promedio de valor_cuota     39,985.00  1,822,626.15  6,433,925.02   \n",
       "Comunicaciones_saldo_actual 39,985.00        163.76     32,746.14   \n",
       "%_comunicaciones            39,985.00          0.00          0.00   \n",
       "Consumo_saldo_actual        39,985.00 21,356,587.77 44,665,566.23   \n",
       "%_consumo                   39,985.00          0.72          0.39   \n",
       "perfil_usuario_Sin registro 39,985.00          0.34          0.47   \n",
       "\n",
       "                                     min          25%           50%  \\\n",
       "Creditos                            1.00         1.00          1.00   \n",
       "saldo_actual                4,500,000.00 7,749,000.00 16,436,000.00   \n",
       "saldo_vencido                       0.00         0.00          0.00   \n",
       "Promedio de limite_credito          0.00         0.00          0.00   \n",
       "Promedio de credito_maximo          0.00 6,000,000.00 10,878,000.00   \n",
       "Promedio de cantidad_cuotas         0.00        25.00         57.00   \n",
       "Promedio de valor_cuota             0.00   248,000.00    406,333.33   \n",
       "Comunicaciones_saldo_actual         0.00         0.00          0.00   \n",
       "%_comunicaciones                    0.00         0.00          0.00   \n",
       "Consumo_saldo_actual                0.00 5,363,000.00 10,389,000.00   \n",
       "%_consumo                           0.00         0.42          1.00   \n",
       "perfil_usuario_Sin registro         0.00         0.00          0.00   \n",
       "\n",
       "                                      75%              max  \n",
       "Creditos                             2.00            26.00  \n",
       "saldo_actual                38,852,000.00 6,082,201,976.00  \n",
       "saldo_vencido                   96,000.00 1,608,429,952.00  \n",
       "Promedio de limite_credito           0.00   101,900,000.00  \n",
       "Promedio de credito_maximo  21,100,000.00   835,961,274.91  \n",
       "Promedio de cantidad_cuotas         72.00           592.00  \n",
       "Promedio de valor_cuota        800,000.00   339,129,984.00  \n",
       "Comunicaciones_saldo_actual          0.00     6,548,000.00  \n",
       "%_comunicaciones                     0.00             0.17  \n",
       "Consumo_saldo_actual        24,377,000.00 3,776,354,064.00  \n",
       "%_consumo                            1.00             1.00  \n",
       "perfil_usuario_Sin registro          1.00             1.00  "
      ]
     },
     "execution_count": 18,
     "metadata": {},
     "output_type": "execute_result"
    }
   ],
   "source": [
    "final_df.describe().transpose()"
   ]
  },
  {
   "attachments": {},
   "cell_type": "markdown",
   "id": "570af7d8",
   "metadata": {},
   "source": [
    "Notese que algunas variables tienen varianzas muy altas. Esto puede indicar que pueden haber errores en el conjunto de datos o que existen usuarios que se salen un poco de los rangos normales. Cualquiera que sea el motivo, vamos a revisar estos datos y a clasificar el conjunto de datos con una variable agrupadora."
   ]
  },
  {
   "attachments": {},
   "cell_type": "markdown",
   "id": "7be85be6",
   "metadata": {},
   "source": [
    "**NOTA IMPORTANTE:** De este punto en adelente no se tendrá en cuenta, ya que fue un intento de detectar valores atípicos y hacer un cluster de usuarios con dicho procesamiento. Realizaremos primero el modelado de Clustering y regresaremos a este enfoque si es necesario."
   ]
  },
  {
   "cell_type": "code",
   "execution_count": 19,
   "id": "b4d4bea0",
   "metadata": {},
   "outputs": [
    {
     "data": {
      "text/html": [
       "<div>\n",
       "<style scoped>\n",
       "    .dataframe tbody tr th:only-of-type {\n",
       "        vertical-align: middle;\n",
       "    }\n",
       "\n",
       "    .dataframe tbody tr th {\n",
       "        vertical-align: top;\n",
       "    }\n",
       "\n",
       "    .dataframe thead th {\n",
       "        text-align: right;\n",
       "    }\n",
       "</style>\n",
       "<table border=\"1\" class=\"dataframe\">\n",
       "  <thead>\n",
       "    <tr style=\"text-align: right;\">\n",
       "      <th></th>\n",
       "      <th>saldo_actual</th>\n",
       "      <th>saldo_vencido</th>\n",
       "      <th>Promedio de credito_maximo</th>\n",
       "      <th>Consumo_saldo_actual</th>\n",
       "    </tr>\n",
       "  </thead>\n",
       "  <tbody>\n",
       "    <tr>\n",
       "      <th>count</th>\n",
       "      <td>39,985.00</td>\n",
       "      <td>39,985.00</td>\n",
       "      <td>39,985.00</td>\n",
       "      <td>39,985.00</td>\n",
       "    </tr>\n",
       "    <tr>\n",
       "      <th>mean</th>\n",
       "      <td>34,570,607.56</td>\n",
       "      <td>3,878,851.64</td>\n",
       "      <td>16,868,726.57</td>\n",
       "      <td>21,356,587.77</td>\n",
       "    </tr>\n",
       "    <tr>\n",
       "      <th>std</th>\n",
       "      <td>74,068,491.07</td>\n",
       "      <td>18,333,550.42</td>\n",
       "      <td>21,271,197.05</td>\n",
       "      <td>44,665,566.23</td>\n",
       "    </tr>\n",
       "    <tr>\n",
       "      <th>min</th>\n",
       "      <td>4,500,000.00</td>\n",
       "      <td>0.00</td>\n",
       "      <td>0.00</td>\n",
       "      <td>0.00</td>\n",
       "    </tr>\n",
       "    <tr>\n",
       "      <th>5%</th>\n",
       "      <td>4,897,000.00</td>\n",
       "      <td>0.00</td>\n",
       "      <td>0.00</td>\n",
       "      <td>0.00</td>\n",
       "    </tr>\n",
       "    <tr>\n",
       "      <th>10%</th>\n",
       "      <td>5,342,000.00</td>\n",
       "      <td>0.00</td>\n",
       "      <td>0.00</td>\n",
       "      <td>0.00</td>\n",
       "    </tr>\n",
       "    <tr>\n",
       "      <th>25%</th>\n",
       "      <td>7,749,000.00</td>\n",
       "      <td>0.00</td>\n",
       "      <td>6,000,000.00</td>\n",
       "      <td>5,363,000.00</td>\n",
       "    </tr>\n",
       "    <tr>\n",
       "      <th>50%</th>\n",
       "      <td>16,436,000.00</td>\n",
       "      <td>0.00</td>\n",
       "      <td>10,878,000.00</td>\n",
       "      <td>10,389,000.00</td>\n",
       "    </tr>\n",
       "    <tr>\n",
       "      <th>75%</th>\n",
       "      <td>38,852,000.00</td>\n",
       "      <td>96,000.00</td>\n",
       "      <td>21,100,000.00</td>\n",
       "      <td>24,377,000.00</td>\n",
       "    </tr>\n",
       "    <tr>\n",
       "      <th>90%</th>\n",
       "      <td>80,131,200.00</td>\n",
       "      <td>9,250,800.00</td>\n",
       "      <td>37,500,000.00</td>\n",
       "      <td>49,222,000.00</td>\n",
       "    </tr>\n",
       "    <tr>\n",
       "      <th>95%</th>\n",
       "      <td>116,018,400.00</td>\n",
       "      <td>19,789,000.00</td>\n",
       "      <td>50,000,000.00</td>\n",
       "      <td>74,075,400.00</td>\n",
       "    </tr>\n",
       "    <tr>\n",
       "      <th>max</th>\n",
       "      <td>6,082,201,976.00</td>\n",
       "      <td>1,608,429,952.00</td>\n",
       "      <td>835,961,274.91</td>\n",
       "      <td>3,776,354,064.00</td>\n",
       "    </tr>\n",
       "  </tbody>\n",
       "</table>\n",
       "</div>"
      ],
      "text/plain": [
       "          saldo_actual    saldo_vencido  Promedio de credito_maximo  \\\n",
       "count        39,985.00        39,985.00                   39,985.00   \n",
       "mean     34,570,607.56     3,878,851.64               16,868,726.57   \n",
       "std      74,068,491.07    18,333,550.42               21,271,197.05   \n",
       "min       4,500,000.00             0.00                        0.00   \n",
       "5%        4,897,000.00             0.00                        0.00   \n",
       "10%       5,342,000.00             0.00                        0.00   \n",
       "25%       7,749,000.00             0.00                6,000,000.00   \n",
       "50%      16,436,000.00             0.00               10,878,000.00   \n",
       "75%      38,852,000.00        96,000.00               21,100,000.00   \n",
       "90%      80,131,200.00     9,250,800.00               37,500,000.00   \n",
       "95%     116,018,400.00    19,789,000.00               50,000,000.00   \n",
       "max   6,082,201,976.00 1,608,429,952.00              835,961,274.91   \n",
       "\n",
       "       Consumo_saldo_actual  \n",
       "count             39,985.00  \n",
       "mean          21,356,587.77  \n",
       "std           44,665,566.23  \n",
       "min                    0.00  \n",
       "5%                     0.00  \n",
       "10%                    0.00  \n",
       "25%            5,363,000.00  \n",
       "50%           10,389,000.00  \n",
       "75%           24,377,000.00  \n",
       "90%           49,222,000.00  \n",
       "95%           74,075,400.00  \n",
       "max        3,776,354,064.00  "
      ]
     },
     "execution_count": 19,
     "metadata": {},
     "output_type": "execute_result"
    }
   ],
   "source": [
    "outliers_columns = ['saldo_actual', 'saldo_vencido', 'Promedio de credito_maximo', 'Consumo_saldo_actual']\n",
    "\n",
    "final_df[outliers_columns].describe(percentiles=[0.05, 0.1, 0.25, 0.75, 0.9, 0.95])"
   ]
  },
  {
   "attachments": {},
   "cell_type": "markdown",
   "id": "9c897298",
   "metadata": {},
   "source": [
    "Según lo anterior, en el percentil **95%** se intuye que los datos tienen una varianza adecuada. Por tanto, definimos este percentil para decidir factores de contaminación en procesamiento de outliers."
   ]
  },
  {
   "attachments": {},
   "cell_type": "markdown",
   "id": "98561ca4",
   "metadata": {},
   "source": [
    "Vamos a ejecutar la técnica de **detección de anomalías Isolation Forest**, la cual, al igual que Local Outlier Factor es bastante robusta, pero tiene mucha mejor eficiencia, además, usa algoritmos de árboles aleatorios para encontrar valores muy a los extremos. El factor de contaminación será **auto**, ya que el mismo algoritmo decide los extremos."
   ]
  },
  {
   "cell_type": "code",
   "execution_count": 20,
   "id": "255b7ca6",
   "metadata": {},
   "outputs": [
    {
     "data": {
      "text/plain": [
       "0.00    27906\n",
       "1.00     4107\n",
       "Name: outlier, dtype: int64"
      ]
     },
     "execution_count": 20,
     "metadata": {},
     "output_type": "execute_result"
    }
   ],
   "source": [
    "clf = IsolationForest(random_state=0, contamination='auto')\n",
    "outliers_mark = clf.fit_predict(final_df)\n",
    "\n",
    "final_isolation_df = final_df.copy()\n",
    "final_isolation_df['outlier'] = pd.Series(outliers_mark).apply(lambda x: 1 if x == -1 else 0)\n",
    "final_isolation_df.outlier.value_counts()"
   ]
  },
  {
   "cell_type": "code",
   "execution_count": 21,
   "id": "8dcf27da",
   "metadata": {},
   "outputs": [
    {
     "data": {
      "text/html": [
       "<div>\n",
       "<style scoped>\n",
       "    .dataframe tbody tr th:only-of-type {\n",
       "        vertical-align: middle;\n",
       "    }\n",
       "\n",
       "    .dataframe tbody tr th {\n",
       "        vertical-align: top;\n",
       "    }\n",
       "\n",
       "    .dataframe thead th {\n",
       "        text-align: right;\n",
       "    }\n",
       "</style>\n",
       "<table border=\"1\" class=\"dataframe\">\n",
       "  <thead>\n",
       "    <tr style=\"text-align: right;\">\n",
       "      <th></th>\n",
       "      <th>saldo_actual</th>\n",
       "      <th>saldo_vencido</th>\n",
       "      <th>Promedio de credito_maximo</th>\n",
       "      <th>Consumo_saldo_actual</th>\n",
       "    </tr>\n",
       "  </thead>\n",
       "  <tbody>\n",
       "    <tr>\n",
       "      <th>count</th>\n",
       "      <td>27,906.00</td>\n",
       "      <td>27,906.00</td>\n",
       "      <td>27,906.00</td>\n",
       "      <td>27,906.00</td>\n",
       "    </tr>\n",
       "    <tr>\n",
       "      <th>mean</th>\n",
       "      <td>34,714,317.86</td>\n",
       "      <td>3,906,578.05</td>\n",
       "      <td>16,882,762.49</td>\n",
       "      <td>21,380,213.78</td>\n",
       "    </tr>\n",
       "    <tr>\n",
       "      <th>std</th>\n",
       "      <td>80,522,488.74</td>\n",
       "      <td>18,728,836.83</td>\n",
       "      <td>21,553,204.50</td>\n",
       "      <td>47,788,974.21</td>\n",
       "    </tr>\n",
       "    <tr>\n",
       "      <th>min</th>\n",
       "      <td>4,500,000.00</td>\n",
       "      <td>0.00</td>\n",
       "      <td>0.00</td>\n",
       "      <td>0.00</td>\n",
       "    </tr>\n",
       "    <tr>\n",
       "      <th>25%</th>\n",
       "      <td>7,710,250.00</td>\n",
       "      <td>0.00</td>\n",
       "      <td>6,000,000.00</td>\n",
       "      <td>5,364,250.00</td>\n",
       "    </tr>\n",
       "    <tr>\n",
       "      <th>50%</th>\n",
       "      <td>16,341,500.00</td>\n",
       "      <td>0.00</td>\n",
       "      <td>10,900,000.00</td>\n",
       "      <td>10,341,000.00</td>\n",
       "    </tr>\n",
       "    <tr>\n",
       "      <th>75%</th>\n",
       "      <td>38,877,000.00</td>\n",
       "      <td>89,750.00</td>\n",
       "      <td>21,131,375.00</td>\n",
       "      <td>24,254,750.00</td>\n",
       "    </tr>\n",
       "    <tr>\n",
       "      <th>max</th>\n",
       "      <td>6,082,201,976.00</td>\n",
       "      <td>1,608,429,952.00</td>\n",
       "      <td>835,961,274.91</td>\n",
       "      <td>3,776,354,064.00</td>\n",
       "    </tr>\n",
       "  </tbody>\n",
       "</table>\n",
       "</div>"
      ],
      "text/plain": [
       "          saldo_actual    saldo_vencido  Promedio de credito_maximo  \\\n",
       "count        27,906.00        27,906.00                   27,906.00   \n",
       "mean     34,714,317.86     3,906,578.05               16,882,762.49   \n",
       "std      80,522,488.74    18,728,836.83               21,553,204.50   \n",
       "min       4,500,000.00             0.00                        0.00   \n",
       "25%       7,710,250.00             0.00                6,000,000.00   \n",
       "50%      16,341,500.00             0.00               10,900,000.00   \n",
       "75%      38,877,000.00        89,750.00               21,131,375.00   \n",
       "max   6,082,201,976.00 1,608,429,952.00              835,961,274.91   \n",
       "\n",
       "       Consumo_saldo_actual  \n",
       "count             27,906.00  \n",
       "mean          21,380,213.78  \n",
       "std           47,788,974.21  \n",
       "min                    0.00  \n",
       "25%            5,364,250.00  \n",
       "50%           10,341,000.00  \n",
       "75%           24,254,750.00  \n",
       "max        3,776,354,064.00  "
      ]
     },
     "execution_count": 21,
     "metadata": {},
     "output_type": "execute_result"
    }
   ],
   "source": [
    "final_isolation_df[final_isolation_df.outlier == 0][outliers_columns].describe()"
   ]
  },
  {
   "cell_type": "code",
   "execution_count": 22,
   "id": "6f49a8d8",
   "metadata": {},
   "outputs": [
    {
     "data": {
      "text/html": [
       "<div>\n",
       "<style scoped>\n",
       "    .dataframe tbody tr th:only-of-type {\n",
       "        vertical-align: middle;\n",
       "    }\n",
       "\n",
       "    .dataframe tbody tr th {\n",
       "        vertical-align: top;\n",
       "    }\n",
       "\n",
       "    .dataframe thead th {\n",
       "        text-align: right;\n",
       "    }\n",
       "</style>\n",
       "<table border=\"1\" class=\"dataframe\">\n",
       "  <thead>\n",
       "    <tr style=\"text-align: right;\">\n",
       "      <th></th>\n",
       "      <th>saldo_actual</th>\n",
       "      <th>saldo_vencido</th>\n",
       "      <th>Promedio de credito_maximo</th>\n",
       "      <th>Consumo_saldo_actual</th>\n",
       "    </tr>\n",
       "  </thead>\n",
       "  <tbody>\n",
       "    <tr>\n",
       "      <th>count</th>\n",
       "      <td>4,107.00</td>\n",
       "      <td>4,107.00</td>\n",
       "      <td>4,107.00</td>\n",
       "      <td>4,107.00</td>\n",
       "    </tr>\n",
       "    <tr>\n",
       "      <th>mean</th>\n",
       "      <td>34,187,419.55</td>\n",
       "      <td>3,833,656.44</td>\n",
       "      <td>16,455,449.16</td>\n",
       "      <td>21,318,086.20</td>\n",
       "    </tr>\n",
       "    <tr>\n",
       "      <th>std</th>\n",
       "      <td>62,736,044.60</td>\n",
       "      <td>18,052,546.49</td>\n",
       "      <td>20,869,636.85</td>\n",
       "      <td>41,776,933.72</td>\n",
       "    </tr>\n",
       "    <tr>\n",
       "      <th>min</th>\n",
       "      <td>4,500,000.00</td>\n",
       "      <td>0.00</td>\n",
       "      <td>0.00</td>\n",
       "      <td>0.00</td>\n",
       "    </tr>\n",
       "    <tr>\n",
       "      <th>25%</th>\n",
       "      <td>7,800,500.00</td>\n",
       "      <td>0.00</td>\n",
       "      <td>6,000,000.00</td>\n",
       "      <td>5,298,000.00</td>\n",
       "    </tr>\n",
       "    <tr>\n",
       "      <th>50%</th>\n",
       "      <td>16,517,000.00</td>\n",
       "      <td>0.00</td>\n",
       "      <td>10,967,250.00</td>\n",
       "      <td>10,207,000.00</td>\n",
       "    </tr>\n",
       "    <tr>\n",
       "      <th>75%</th>\n",
       "      <td>37,948,000.00</td>\n",
       "      <td>227,000.00</td>\n",
       "      <td>20,270,500.00</td>\n",
       "      <td>24,046,000.00</td>\n",
       "    </tr>\n",
       "    <tr>\n",
       "      <th>max</th>\n",
       "      <td>1,597,282,024.00</td>\n",
       "      <td>681,588,000.00</td>\n",
       "      <td>580,000,000.00</td>\n",
       "      <td>1,067,885,024.00</td>\n",
       "    </tr>\n",
       "  </tbody>\n",
       "</table>\n",
       "</div>"
      ],
      "text/plain": [
       "          saldo_actual  saldo_vencido  Promedio de credito_maximo  \\\n",
       "count         4,107.00       4,107.00                    4,107.00   \n",
       "mean     34,187,419.55   3,833,656.44               16,455,449.16   \n",
       "std      62,736,044.60  18,052,546.49               20,869,636.85   \n",
       "min       4,500,000.00           0.00                        0.00   \n",
       "25%       7,800,500.00           0.00                6,000,000.00   \n",
       "50%      16,517,000.00           0.00               10,967,250.00   \n",
       "75%      37,948,000.00     227,000.00               20,270,500.00   \n",
       "max   1,597,282,024.00 681,588,000.00              580,000,000.00   \n",
       "\n",
       "       Consumo_saldo_actual  \n",
       "count              4,107.00  \n",
       "mean          21,318,086.20  \n",
       "std           41,776,933.72  \n",
       "min                    0.00  \n",
       "25%            5,298,000.00  \n",
       "50%           10,207,000.00  \n",
       "75%           24,046,000.00  \n",
       "max        1,067,885,024.00  "
      ]
     },
     "execution_count": 22,
     "metadata": {},
     "output_type": "execute_result"
    }
   ],
   "source": [
    "final_isolation_df[final_isolation_df.outlier == 1][outliers_columns].describe()"
   ]
  },
  {
   "cell_type": "code",
   "execution_count": 23,
   "id": "ee77c118",
   "metadata": {},
   "outputs": [
    {
     "data": {
      "text/plain": [
       "<AxesSubplot:xlabel='outlier', ylabel='Consumo_saldo_actual'>"
      ]
     },
     "execution_count": 23,
     "metadata": {},
     "output_type": "execute_result"
    },
    {
     "data": {
      "image/png": "[encoded data removed]",
      "text/plain": [
       "<Figure size 1080x720 with 4 Axes>"
      ]
     },
     "metadata": {
      "needs_background": "light"
     },
     "output_type": "display_data"
    }
   ],
   "source": [
    "temp_data = final_isolation_df[outliers_columns]\n",
    "\n",
    "f, ax = plt.subplots(figsize=(15, 10), ncols=2, nrows=2)\n",
    "sns.boxplot(x=final_isolation_df.outlier, y=temp_data['saldo_actual'], ax=ax[0][0])\n",
    "sns.boxplot(x=final_isolation_df.outlier, y=temp_data['saldo_vencido'], ax=ax[0][1])\n",
    "sns.boxplot(x=final_isolation_df.outlier, y=temp_data['Promedio de credito_maximo'], ax=ax[1][0])\n",
    "sns.boxplot(x=final_isolation_df.outlier, y=temp_data['Consumo_saldo_actual'], ax=ax[1][1])"
   ]
  },
  {
   "attachments": {},
   "cell_type": "markdown",
   "id": "296922c7",
   "metadata": {},
   "source": [
    "Dado que el resultado nos sigue dejando un conjunto de valores con mucha varianza em ambos conjuntos de datos, realizaremos una marcación manual considerando el percentil donde se comienzan a notar los valores más alejados para cada variable, en este caso, por encima del percentil **95%**."
   ]
  },
  {
   "cell_type": "code",
   "execution_count": 24,
   "id": "fba0b8e1",
   "metadata": {},
   "outputs": [
    {
     "data": {
      "text/plain": [
       "saldo_actual                 116,018,400.00\n",
       "saldo_vencido                 19,789,000.00\n",
       "Promedio de credito_maximo    50,000,000.00\n",
       "Consumo_saldo_actual          74,075,400.00\n",
       "Name: 95%, dtype: float64"
      ]
     },
     "execution_count": 24,
     "metadata": {},
     "output_type": "execute_result"
    }
   ],
   "source": [
    "outliers_desc = pd.DataFrame(final_df[outliers_columns].describe(percentiles=[0.05, 0.1, 0.25, 0.75, 0.9, 0.95]))\n",
    "outliers_desc = outliers_desc.loc['95%']\n",
    "outliers_desc"
   ]
  },
  {
   "cell_type": "code",
   "execution_count": 25,
   "id": "74ad13ea",
   "metadata": {},
   "outputs": [
    {
     "data": {
      "text/plain": [
       "((39985, 12), (39985, 13))"
      ]
     },
     "execution_count": 25,
     "metadata": {},
     "output_type": "execute_result"
    }
   ],
   "source": [
    "def get_outlier_flag(row):\n",
    "    for col in outliers_columns:\n",
    "        if row[col] >= outliers_desc[col]:\n",
    "            return 1\n",
    "    return 0\n",
    "\n",
    "final_outlier_df = final_df.copy()\n",
    "final_outlier_df['outlier'] = final_outlier_df.apply(get_outlier_flag, axis=1)\n",
    "\n",
    "final_df.shape, final_outlier_df.shape"
   ]
  },
  {
   "cell_type": "code",
   "execution_count": 26,
   "id": "dcc1652f",
   "metadata": {},
   "outputs": [
    {
     "data": {
      "text/html": [
       "<div>\n",
       "<style scoped>\n",
       "    .dataframe tbody tr th:only-of-type {\n",
       "        vertical-align: middle;\n",
       "    }\n",
       "\n",
       "    .dataframe tbody tr th {\n",
       "        vertical-align: top;\n",
       "    }\n",
       "\n",
       "    .dataframe thead th {\n",
       "        text-align: right;\n",
       "    }\n",
       "</style>\n",
       "<table border=\"1\" class=\"dataframe\">\n",
       "  <thead>\n",
       "    <tr style=\"text-align: right;\">\n",
       "      <th></th>\n",
       "      <th>saldo_actual</th>\n",
       "      <th>saldo_vencido</th>\n",
       "      <th>Promedio de credito_maximo</th>\n",
       "      <th>Consumo_saldo_actual</th>\n",
       "    </tr>\n",
       "  </thead>\n",
       "  <tbody>\n",
       "    <tr>\n",
       "      <th>count</th>\n",
       "      <td>34,690.00</td>\n",
       "      <td>34,690.00</td>\n",
       "      <td>34,690.00</td>\n",
       "      <td>34,690.00</td>\n",
       "    </tr>\n",
       "    <tr>\n",
       "      <th>mean</th>\n",
       "      <td>21,910,594.72</td>\n",
       "      <td>1,381,908.33</td>\n",
       "      <td>12,449,284.92</td>\n",
       "      <td>13,832,536.58</td>\n",
       "    </tr>\n",
       "    <tr>\n",
       "      <th>std</th>\n",
       "      <td>20,991,460.22</td>\n",
       "      <td>3,488,942.72</td>\n",
       "      <td>10,430,440.62</td>\n",
       "      <td>14,121,356.00</td>\n",
       "    </tr>\n",
       "    <tr>\n",
       "      <th>min</th>\n",
       "      <td>4,500,000.00</td>\n",
       "      <td>0.00</td>\n",
       "      <td>0.00</td>\n",
       "      <td>0.00</td>\n",
       "    </tr>\n",
       "    <tr>\n",
       "      <th>25%</th>\n",
       "      <td>7,043,000.00</td>\n",
       "      <td>0.00</td>\n",
       "      <td>5,539,250.00</td>\n",
       "      <td>5,091,000.00</td>\n",
       "    </tr>\n",
       "    <tr>\n",
       "      <th>50%</th>\n",
       "      <td>13,600,000.00</td>\n",
       "      <td>0.00</td>\n",
       "      <td>9,999,999.75</td>\n",
       "      <td>9,181,000.00</td>\n",
       "    </tr>\n",
       "    <tr>\n",
       "      <th>75%</th>\n",
       "      <td>28,913,000.00</td>\n",
       "      <td>0.00</td>\n",
       "      <td>17,250,000.00</td>\n",
       "      <td>18,827,500.00</td>\n",
       "    </tr>\n",
       "    <tr>\n",
       "      <th>max</th>\n",
       "      <td>115,972,000.00</td>\n",
       "      <td>19,781,000.00</td>\n",
       "      <td>49,987,000.00</td>\n",
       "      <td>74,045,000.00</td>\n",
       "    </tr>\n",
       "  </tbody>\n",
       "</table>\n",
       "</div>"
      ],
      "text/plain": [
       "        saldo_actual  saldo_vencido  Promedio de credito_maximo  \\\n",
       "count      34,690.00      34,690.00                   34,690.00   \n",
       "mean   21,910,594.72   1,381,908.33               12,449,284.92   \n",
       "std    20,991,460.22   3,488,942.72               10,430,440.62   \n",
       "min     4,500,000.00           0.00                        0.00   \n",
       "25%     7,043,000.00           0.00                5,539,250.00   \n",
       "50%    13,600,000.00           0.00                9,999,999.75   \n",
       "75%    28,913,000.00           0.00               17,250,000.00   \n",
       "max   115,972,000.00  19,781,000.00               49,987,000.00   \n",
       "\n",
       "       Consumo_saldo_actual  \n",
       "count             34,690.00  \n",
       "mean          13,832,536.58  \n",
       "std           14,121,356.00  \n",
       "min                    0.00  \n",
       "25%            5,091,000.00  \n",
       "50%            9,181,000.00  \n",
       "75%           18,827,500.00  \n",
       "max           74,045,000.00  "
      ]
     },
     "execution_count": 26,
     "metadata": {},
     "output_type": "execute_result"
    }
   ],
   "source": [
    "# Inliers\n",
    "final_outlier_df[final_outlier_df.outlier == 0][outliers_columns].describe()"
   ]
  },
  {
   "cell_type": "code",
   "execution_count": 27,
   "id": "f16a3e3e",
   "metadata": {},
   "outputs": [
    {
     "data": {
      "text/html": [
       "<div>\n",
       "<style scoped>\n",
       "    .dataframe tbody tr th:only-of-type {\n",
       "        vertical-align: middle;\n",
       "    }\n",
       "\n",
       "    .dataframe tbody tr th {\n",
       "        vertical-align: top;\n",
       "    }\n",
       "\n",
       "    .dataframe thead th {\n",
       "        text-align: right;\n",
       "    }\n",
       "</style>\n",
       "<table border=\"1\" class=\"dataframe\">\n",
       "  <thead>\n",
       "    <tr style=\"text-align: right;\">\n",
       "      <th></th>\n",
       "      <th>saldo_actual</th>\n",
       "      <th>saldo_vencido</th>\n",
       "      <th>Promedio de credito_maximo</th>\n",
       "      <th>Consumo_saldo_actual</th>\n",
       "    </tr>\n",
       "  </thead>\n",
       "  <tbody>\n",
       "    <tr>\n",
       "      <th>count</th>\n",
       "      <td>5,295.00</td>\n",
       "      <td>5,295.00</td>\n",
       "      <td>5,295.00</td>\n",
       "      <td>5,295.00</td>\n",
       "    </tr>\n",
       "    <tr>\n",
       "      <th>mean</th>\n",
       "      <td>117,512,221.41</td>\n",
       "      <td>20,237,484.97</td>\n",
       "      <td>45,822,537.82</td>\n",
       "      <td>70,650,135.59</td>\n",
       "    </tr>\n",
       "    <tr>\n",
       "      <th>std</th>\n",
       "      <td>174,977,218.93</td>\n",
       "      <td>46,371,707.61</td>\n",
       "      <td>41,689,135.79</td>\n",
       "      <td>104,689,117.63</td>\n",
       "    </tr>\n",
       "    <tr>\n",
       "      <th>min</th>\n",
       "      <td>4,500,000.00</td>\n",
       "      <td>0.00</td>\n",
       "      <td>0.00</td>\n",
       "      <td>0.00</td>\n",
       "    </tr>\n",
       "    <tr>\n",
       "      <th>25%</th>\n",
       "      <td>45,552,500.00</td>\n",
       "      <td>0.00</td>\n",
       "      <td>20,573,700.00</td>\n",
       "      <td>22,572,500.00</td>\n",
       "    </tr>\n",
       "    <tr>\n",
       "      <th>50%</th>\n",
       "      <td>91,040,000.00</td>\n",
       "      <td>0.00</td>\n",
       "      <td>39,088,000.00</td>\n",
       "      <td>52,251,000.00</td>\n",
       "    </tr>\n",
       "    <tr>\n",
       "      <th>75%</th>\n",
       "      <td>142,926,000.00</td>\n",
       "      <td>28,122,000.00</td>\n",
       "      <td>58,915,500.00</td>\n",
       "      <td>91,042,000.00</td>\n",
       "    </tr>\n",
       "    <tr>\n",
       "      <th>max</th>\n",
       "      <td>6,082,201,976.00</td>\n",
       "      <td>1,608,429,952.00</td>\n",
       "      <td>835,961,274.91</td>\n",
       "      <td>3,776,354,064.00</td>\n",
       "    </tr>\n",
       "  </tbody>\n",
       "</table>\n",
       "</div>"
      ],
      "text/plain": [
       "          saldo_actual    saldo_vencido  Promedio de credito_maximo  \\\n",
       "count         5,295.00         5,295.00                    5,295.00   \n",
       "mean    117,512,221.41    20,237,484.97               45,822,537.82   \n",
       "std     174,977,218.93    46,371,707.61               41,689,135.79   \n",
       "min       4,500,000.00             0.00                        0.00   \n",
       "25%      45,552,500.00             0.00               20,573,700.00   \n",
       "50%      91,040,000.00             0.00               39,088,000.00   \n",
       "75%     142,926,000.00    28,122,000.00               58,915,500.00   \n",
       "max   6,082,201,976.00 1,608,429,952.00              835,961,274.91   \n",
       "\n",
       "       Consumo_saldo_actual  \n",
       "count              5,295.00  \n",
       "mean          70,650,135.59  \n",
       "std          104,689,117.63  \n",
       "min                    0.00  \n",
       "25%           22,572,500.00  \n",
       "50%           52,251,000.00  \n",
       "75%           91,042,000.00  \n",
       "max        3,776,354,064.00  "
      ]
     },
     "execution_count": 27,
     "metadata": {},
     "output_type": "execute_result"
    }
   ],
   "source": [
    "# Outliers\n",
    "final_outlier_df[final_outlier_df.outlier == 1][outliers_columns].describe()"
   ]
  },
  {
   "cell_type": "code",
   "execution_count": 28,
   "id": "4cd6f866",
   "metadata": {},
   "outputs": [
    {
     "data": {
      "text/plain": [
       "<AxesSubplot:xlabel='outlier', ylabel='Consumo_saldo_actual'>"
      ]
     },
     "execution_count": 28,
     "metadata": {},
     "output_type": "execute_result"
    },
    {
     "data": {
      "image/png": "[encoded data removed]",
      "text/plain": [
       "<Figure size 1080x720 with 4 Axes>"
      ]
     },
     "metadata": {
      "needs_background": "light"
     },
     "output_type": "display_data"
    }
   ],
   "source": [
    "temp_data = final_outlier_df[outliers_columns]\n",
    "\n",
    "f, ax = plt.subplots(figsize=(15, 10), ncols=2, nrows=2)\n",
    "sns.boxplot(x=final_outlier_df.outlier, y=temp_data['saldo_actual'], ax=ax[0][0])\n",
    "sns.boxplot(x=final_outlier_df.outlier, y=temp_data['saldo_vencido'], ax=ax[0][1])\n",
    "sns.boxplot(x=final_outlier_df.outlier, y=temp_data['Promedio de credito_maximo'], ax=ax[1][0])\n",
    "sns.boxplot(x=final_outlier_df.outlier, y=temp_data['Consumo_saldo_actual'], ax=ax[1][1])"
   ]
  },
  {
   "cell_type": "code",
   "execution_count": 29,
   "id": "adb9e53b",
   "metadata": {},
   "outputs": [
    {
     "data": {
      "text/plain": [
       "((39985, 12), (39985, 13))"
      ]
     },
     "execution_count": 29,
     "metadata": {},
     "output_type": "execute_result"
    }
   ],
   "source": [
    "final_df.shape, final_outlier_df.shape"
   ]
  },
  {
   "cell_type": "markdown",
   "id": "a7b7adef",
   "metadata": {},
   "source": [
    "## 5. Almacenamiento resultados de predicción"
   ]
  },
  {
   "cell_type": "code",
   "execution_count": 30,
   "id": "5caa6065",
   "metadata": {},
   "outputs": [],
   "source": [
    "# final_outlier_df.to_csv('data/result.csv', sep=\";\", encoding=\"utf-8\", index=False)"
   ]
  }
 ],
 "metadata": {
  "kernelspec": {
   "display_name": "base",
   "language": "python",
   "name": "python3"
  },
  "language_info": {
   "codemirror_mode": {
    "name": "ipython",
    "version": 3
   },
   "file_extension": ".py",
   "mimetype": "text/x-python",
   "name": "python",
   "nbconvert_exporter": "python",
   "pygments_lexer": "ipython3",
   "version": "3.8.8"
  },
  "vscode": {
   "interpreter": {
    "hash": "ad2bdc8ecc057115af97d19610ffacc2b4e99fae6737bb82f5d7fb13d2f2c186"
   }
  }
 },
 "nbformat": 4,
 "nbformat_minor": 5
}
